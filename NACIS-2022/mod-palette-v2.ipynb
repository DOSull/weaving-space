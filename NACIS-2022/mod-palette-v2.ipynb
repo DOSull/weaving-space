{
 "cells": [
  {
   "cell_type": "code",
   "execution_count": 2,
   "metadata": {},
   "outputs": [],
   "source": [
    "changes = {\n",
    "  \"168,0,0,255\": \"255,1,56,255\",\n",
    "  \"255,0,0,255\": \"221,82,62,255\",\n",
    "  \"0,112,255,255\": \"80,136,224,255\",\n",
    "  \"0,169,230,255\": \"59,166,221,255\",\n",
    "  \"169,0,230,255\": \"164,65,215,255\",\n",
    "  \"255,115,223,255\":\"215,66,180,255\",\n",
    "  \"0,255,197,255\": \"173,227,26,255\",\n",
    "  \"230,230,0,255\":\"207,207,23,255\",\n",
    "  \"255,255,115,255\":\"241,241,129,255\",\n",
    "  \"255,255,190,255\":\"248,248,197,255\",\n",
    "  \"230,152,0,255\":\"217,157,40,255\",\n",
    "  \"255,211,127,255\":\"242,211,127,255\",\n",
    "  \"255,235,175,255\":\"247,219,162,255\",\n",
    "  \"56,168,0,255\": \"19,171,34,255\",\n",
    "  \"165,245,122,255\": \"44,209,58,255\",\n",
    "  \"211,255,178,255\": \"158,224,162,255\",\n",
    "  \"217,189,117,255\": \"227,206,162,255\",\n",
    "  \"218,242,234,255\":\"209,245,163,255\",\n",
    "  \"225,225,225,255\":\"230,230,230,255\"\n",
    "}\n",
    "\n",
    "def apply_changes(s:str, c:dict):\n",
    "  # do this carefully, so we don't circularly mod\n",
    "  # something via two changes in the dictionary\n",
    "  from_strs = [k for k in c.keys()]\n",
    "  if any([f in s for f in from_strs]):\n",
    "    f = from_strs[[f in s for f in c.keys()].index(True)]\n",
    "    s = s.replace(f, c[f])\n",
    "    return s\n",
    "  return s"
   ]
  },
  {
   "cell_type": "code",
   "execution_count": 3,
   "metadata": {},
   "outputs": [],
   "source": [
    "with open(\"anthromes.qml\", \"r\") as f:\n",
    "  lines = f.readlines()"
   ]
  },
  {
   "cell_type": "code",
   "execution_count": 4,
   "metadata": {},
   "outputs": [],
   "source": [
    "new_lines = []\n",
    "for line in lines:\n",
    "  new_lines.append(apply_changes(line, changes))"
   ]
  },
  {
   "cell_type": "code",
   "execution_count": 5,
   "metadata": {},
   "outputs": [],
   "source": [
    "with open(\"anthromes-mod-v2.qml\", \"w\") as f:\n",
    "  f.writelines(new_lines)"
   ]
  }
 ],
 "metadata": {
  "kernelspec": {
   "display_name": "Python 3.10.6",
   "language": "python",
   "name": "python3"
  },
  "language_info": {
   "codemirror_mode": {
    "name": "ipython",
    "version": 3
   },
   "file_extension": ".py",
   "mimetype": "text/x-python",
   "name": "python",
   "nbconvert_exporter": "python",
   "pygments_lexer": "ipython3",
   "version": "3.10.6"
  },
  "orig_nbformat": 4,
  "vscode": {
   "interpreter": {
    "hash": "97dd1a9cb397127a48531d08864eed127fa29f0a2ba5fc2aa36280244df61de8"
   }
  }
 },
 "nbformat": 4,
 "nbformat_minor": 2
}

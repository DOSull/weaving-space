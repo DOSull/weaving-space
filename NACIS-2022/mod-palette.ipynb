{
 "cells": [
  {
   "cell_type": "code",
   "execution_count": 22,
   "metadata": {},
   "outputs": [],
   "source": [
    "changes = {\n",
    "  \"168,0,0,255\": \"255,51,51,255\",\n",
    "  \"255,0,0,255\": \"168,51,51,255\",\n",
    "  \"0,112,255,255\": \"51,112,204,255\",\n",
    "  \"0,169,230,255\": \"51,169,230,255\",\n",
    "  \"169,0,230,255\": \"169,51,230,255\",\n",
    "  \"0,255,197,255\": \"153,204,51,255\",\n",
    "  \"56,168,0,255\": \"35,139,69,255\",\n",
    "  \"56,168,0,255\": \"35,139,69,255\",\n",
    "  \"165,245,122,255\": \"116,196,118,255\",\n",
    "  \"211,255,178,255\": \"186,228,179,255\",\n",
    "  \"218,242,234,255\": \"237,248,233,255\"\n",
    "}\n",
    "\n",
    "def apply_changes(s:str, c:dict):\n",
    "  # do this carefully, so we don't circularly mod\n",
    "  # something via two changes in the dictionary\n",
    "  from_strs = [k for k in c.keys()]\n",
    "  if any([f in s for f in from_strs]):\n",
    "    f = from_strs[[f in s for f in c.keys()].index(True)]\n",
    "    s = s.replace(f, c[f])\n",
    "    return s\n",
    "  return s"
   ]
  },
  {
   "cell_type": "code",
   "execution_count": 23,
   "metadata": {},
   "outputs": [],
   "source": [
    "with open(\"anthromes.qml\", \"r\") as f:\n",
    "  lines = f.readlines()"
   ]
  },
  {
   "cell_type": "code",
   "execution_count": 24,
   "metadata": {},
   "outputs": [],
   "source": [
    "new_lines = []\n",
    "for line in lines:\n",
    "  new_lines.append(apply_changes(line, changes))"
   ]
  },
  {
   "cell_type": "code",
   "execution_count": 25,
   "metadata": {},
   "outputs": [],
   "source": [
    "with open(\"anthromes-mod.qml\", \"w\") as f:\n",
    "  f.writelines(new_lines)"
   ]
  }
 ],
 "metadata": {
  "kernelspec": {
   "display_name": "weaving",
   "language": "python",
   "name": "python3"
  },
  "language_info": {
   "codemirror_mode": {
    "name": "ipython",
    "version": 3
   },
   "file_extension": ".py",
   "mimetype": "text/x-python",
   "name": "python",
   "nbconvert_exporter": "python",
   "pygments_lexer": "ipython3",
   "version": "3.10.5"
  },
  "orig_nbformat": 4,
  "vscode": {
   "interpreter": {
    "hash": "8ebe6d27dded17195585df01103ddf0ba29fa9b848e192691d9412070e1dba2e"
   }
  }
 },
 "nbformat": 4,
 "nbformat_minor": 2
}

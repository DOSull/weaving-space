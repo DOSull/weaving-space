{
 "cells": [
  {
   "cell_type": "code",
   "execution_count": 1,
   "metadata": {},
   "outputs": [],
   "source": [
    "%matplotlib inline\n",
    "from matplotlib import pyplot\n",
    "import geopandas as gpd\n",
    "import pandas as pd\n",
    "import numpy as np\n",
    "from shapely.wkt import loads\n",
    "from shapely.geometry import Point, Polygon\n",
    "from osgeo import gdal, ogr\n",
    "\n",
    "from weavingspace import TileUnit\n",
    "from weavingspace import Tiling"
   ]
  },
  {
   "cell_type": "code",
   "execution_count": 3,
   "metadata": {},
   "outputs": [
    {
     "data": {
      "text/plain": [
       "<Geographic 2D CRS: EPSG:4326>\n",
       "Name: WGS 84\n",
       "Axis Info [ellipsoidal]:\n",
       "- Lat[north]: Geodetic latitude (degree)\n",
       "- Lon[east]: Geodetic longitude (degree)\n",
       "Area of Use:\n",
       "- name: World.\n",
       "- bounds: (-180.0, -90.0, 180.0, 90.0)\n",
       "Datum: World Geodetic System 1984 ensemble\n",
       "- Ellipsoid: WGS 84\n",
       "- Prime Meridian: Greenwich"
      ]
     },
     "execution_count": 3,
     "metadata": {},
     "output_type": "execute_result"
    }
   ],
   "source": [
    "\n",
    "anthromes_geom_gdf = gpd.read_file(\"C:/data/Anthromes-12k-DGG/an12_dgg_inputs.shp\")\n",
    "\n",
    "anthromes_geom_gdf\n",
    "anthromes_geom_gdf.crs"
   ]
  },
  {
   "cell_type": "code",
   "execution_count": 8,
   "metadata": {},
   "outputs": [
    {
     "data": {
      "text/plain": [
       "array([-179.99898824,  -55.80556255,  179.99303127,   83.68858812])"
      ]
     },
     "execution_count": 8,
     "metadata": {},
     "output_type": "execute_result"
    }
   ],
   "source": [
    "anthromes_bounds = anthromes_geom_gdf.geometry.total_bounds  #\"a tuple containing minx, miny, maxx, maxy\"\n",
    "anthromes_bounds"
   ]
  },
  {
   "cell_type": "code",
   "execution_count": 10,
   "metadata": {},
   "outputs": [
    {
     "data": {
      "text/plain": [
       "array([-179.99898824,  -89.9       ,  179.99303127,   89.9       ])"
      ]
     },
     "execution_count": 10,
     "metadata": {},
     "output_type": "execute_result"
    }
   ],
   "source": [
    "anthromes_bounds[1] = -89.9\n",
    "anthromes_bounds[3] = 89.9\n",
    "anthromes_bounds"
   ]
  },
  {
   "cell_type": "code",
   "execution_count": 11,
   "metadata": {},
   "outputs": [
    {
     "data": {
      "text/html": [
       "<div>\n",
       "<style scoped>\n",
       "    .dataframe tbody tr th:only-of-type {\n",
       "        vertical-align: middle;\n",
       "    }\n",
       "\n",
       "    .dataframe tbody tr th {\n",
       "        vertical-align: top;\n",
       "    }\n",
       "\n",
       "    .dataframe thead th {\n",
       "        text-align: right;\n",
       "    }\n",
       "</style>\n",
       "<table border=\"1\" class=\"dataframe\">\n",
       "  <thead>\n",
       "    <tr style=\"text-align: right;\">\n",
       "      <th></th>\n",
       "      <th>geometry</th>\n",
       "    </tr>\n",
       "  </thead>\n",
       "  <tbody>\n",
       "    <tr>\n",
       "      <th>0</th>\n",
       "      <td>POLYGON ((-179.99899 89.90000, -179.89899 89.9...</td>\n",
       "    </tr>\n",
       "  </tbody>\n",
       "</table>\n",
       "</div>"
      ],
      "text/plain": [
       "                                            geometry\n",
       "0  POLYGON ((-179.99899 89.90000, -179.89899 89.9..."
      ]
     },
     "execution_count": 11,
     "metadata": {},
     "output_type": "execute_result"
    }
   ],
   "source": [
    "\n",
    "\n",
    "\n",
    "\n",
    "p1 = Point(anthromes_bounds[0], anthromes_bounds[3])\n",
    "p2 = Point(anthromes_bounds[2], anthromes_bounds[3])\n",
    "p3 = Point(anthromes_bounds[2], anthromes_bounds[1])\n",
    "p4 = Point(anthromes_bounds[0], anthromes_bounds[1])\n",
    "\n",
    "np1 = (p1.coords.xy[0][0], p1.coords.xy[1][0])\n",
    "np2 = (p2.coords.xy[0][0], p2.coords.xy[1][0])\n",
    "np3 = (p3.coords.xy[0][0], p3.coords.xy[1][0])\n",
    "np4 = (p4.coords.xy[0][0], p4.coords.xy[1][0])\n",
    "\n",
    "bb_polygon = Polygon([np1, np2, np3, np4])\n",
    "\n",
    "world_boundaries_gdf = gpd.GeoDataFrame(gpd.GeoSeries(bb_polygon), columns=['geometry'])\n",
    "world_boundaries_gdf.crs = anthromes_geom_gdf.crs\n",
    "\n",
    "# densify the results\n",
    "# (results are equivalent to the world_boundaries_gdf, which was prepared ahead of time and stored in a file for the full dataset)\n",
    "# code here draws upon https://gis.stackexchange.com/q/432939\n",
    "from shapely.wkt import loads\n",
    "\n",
    "def segmentize(geom):\n",
    "    wkt = geom.wkt  # shapely Polygon to wkt\n",
    "    geom = ogr.CreateGeometryFromWkt(wkt)  # create ogr geometry\n",
    "    geom.Segmentize(0.1)  # densify geometry.. points every this so long.\n",
    "    wkt2 = geom.ExportToWkt()  # ogr geometry to wkt\n",
    "    new = loads(wkt2)  # wkt to shapely Polygon\n",
    "    return new\n",
    "\n",
    "world_boundaries_gdf['geometry'] = world_boundaries_gdf['geometry'].apply(segmentize)\n",
    "world_boundaries_gdf"
   ]
  },
  {
   "cell_type": "code",
   "execution_count": 12,
   "metadata": {},
   "outputs": [
    {
     "data": {
      "text/plain": [
       "<AxesSubplot:>"
      ]
     },
     "execution_count": 12,
     "metadata": {},
     "output_type": "execute_result"
    },
    {
     "data": {
      "image/png": "[encoded data removed]",
      "text/plain": [
       "<Figure size 640x480 with 1 Axes>"
      ]
     },
     "metadata": {},
     "output_type": "display_data"
    }
   ],
   "source": [
    "world_boundaries_gdf.plot()"
   ]
  },
  {
   "cell_type": "code",
   "execution_count": 14,
   "metadata": {},
   "outputs": [
    {
     "name": "stderr",
     "output_type": "stream",
     "text": [
      "c:\\Users\\Luke\\Miniconda3\\envs\\geopandas_10_2\\lib\\site-packages\\geopandas\\io\\file.py:362: FutureWarning: pandas.Int64Index is deprecated and will be removed from pandas in a future version. Use pandas.Index with the appropriate dtype instead.\n",
      "  pd.Int64Index,\n"
     ]
    }
   ],
   "source": [
    "world_boundaries_gdf.to_file(\"NACIS-2022/wgs84-densified-world-extent--drawn-from-anthromes-data-bbox.gpkg\")"
   ]
  },
  {
   "cell_type": "code",
   "execution_count": null,
   "metadata": {},
   "outputs": [],
   "source": []
  }
 ],
 "metadata": {
  "kernelspec": {
   "display_name": "Python 3.10.6",
   "language": "python",
   "name": "python3"
  },
  "language_info": {
   "codemirror_mode": {
    "name": "ipython",
    "version": 3
   },
   "file_extension": ".py",
   "mimetype": "text/x-python",
   "name": "python",
   "nbconvert_exporter": "python",
   "pygments_lexer": "ipython3",
   "version": "3.10.6"
  },
  "orig_nbformat": 4,
  "vscode": {
   "interpreter": {
    "hash": "97dd1a9cb397127a48531d08864eed127fa29f0a2ba5fc2aa36280244df61de8"
   }
  }
 },
 "nbformat": 4,
 "nbformat_minor": 2
}

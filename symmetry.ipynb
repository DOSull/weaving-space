{
 "cells": [
  {
   "cell_type": "code",
   "execution_count": 396,
   "metadata": {},
   "outputs": [],
   "source": [
    "from typing import Iterable\n",
    "import numpy as np\n",
    "\n",
    "import shapely.ops\n",
    "import shapely.geometry as geom\n",
    "import shapely.affinity as affine\n",
    "import weavingspace.tiling_utils as tiling_utils\n",
    "from weavingspace.tile_unit import TileUnit\n",
    "\n",
    "import geopandas as gpd"
   ]
  },
  {
   "cell_type": "code",
   "execution_count": 784,
   "metadata": {},
   "outputs": [],
   "source": [
    "def equal_tuples(t1:Iterable[float],\n",
    "                 t2:Iterable[float]) -> bool:\n",
    "  return np.allclose(t1, t2, atol = 1e-5)\n",
    "\n",
    "def round_tuple(t):\n",
    "  return tuple([np.round(x, 1) for x in t])\n",
    "\n",
    "# Implements Knuth-Morris-Pratt see:\n",
    "# https://en.wikipedia.org/wiki/Knuth–Morris–Pratt_algorithm\n",
    "# but for sequences of tuples of floats\n",
    "def find_matches(seq:Iterable[tuple[float]], \n",
    "                 pat:Iterable[tuple[float]],\n",
    "                 equals = equal_tuples) -> list[int]:\n",
    "  # print(\n",
    "  #   f\"\"\"\n",
    "  #   Searching for: \n",
    "  #   {[round_tuple(t) for t in pat]} in\n",
    "  #   {[round_tuple(t) for t in seq]}\n",
    "  #   \"\"\")\n",
    "  j, k, = 0, 0\n",
    "  finds = []\n",
    "  table = get_table(pat)\n",
    "  while j < len(seq):\n",
    "    if equals(pat[k], seq[j]):\n",
    "      j = j + 1\n",
    "      k = k + 1\n",
    "      if k == len(pat):\n",
    "        finds.append(j - k)\n",
    "        k = table[k]\n",
    "    else:\n",
    "      k = table[k]\n",
    "      if k < 0:\n",
    "        j = j + 1\n",
    "        k = k + 1\n",
    "  return finds\n",
    "\n",
    "def get_table(pattern:Iterable,\n",
    "              equals = equal_tuples) -> Iterable:\n",
    "  pos = 1\n",
    "  cnd = 0\n",
    "  T = {0: -1}\n",
    "  \n",
    "  while pos < len(pattern):\n",
    "    if np.allclose(pattern[pos], pattern[cnd]):\n",
    "      T[pos] = T[cnd]\n",
    "    else:\n",
    "      T[pos] = cnd\n",
    "      while cnd >= 0 and not equals(pattern[pos], pattern[cnd]):\n",
    "        cnd = T[cnd]\n",
    "    pos = pos + 1\n",
    "    cnd = cnd + 1\n",
    "  \n",
    "  T[pos] = cnd\n",
    "  return tuple(T.values())"
   ]
  },
  {
   "cell_type": "code",
   "execution_count": 1099,
   "metadata": {},
   "outputs": [],
   "source": [
    "def get_lengths_and_angles(p:geom.Polygon) -> list[tuple[float]]:\n",
    "  lengths = tiling_utils.get_edge_lengths(p)\n",
    "  angles = tiling_utils.get_interior_angles(p)\n",
    "  return list(zip(lengths + lengths[:1], angles + angles[:1]))\n",
    "\n",
    "def get_edge_bearings(p:geom.Polygon) -> tuple[tuple[float]]:\n",
    "  c = p.centroid\n",
    "  # don't set_precision on this - it changes the point order!\n",
    "  pdash = affine.translate(p, -c.x, -c.y)\n",
    "  edges = tiling_utils.get_edges(pdash)\n",
    "  return tuple([np.degrees(np.arctan2(\n",
    "    # e.coords[1][1], e.coords[1][0])) \n",
    "    e.coords[1][1] - e.coords[0][1], e.coords[1][0] - e.coords[0][0])) \n",
    "    for e in edges])\n",
    "\n",
    "# Based on\n",
    "# Eades, P. 1988. Symmetry Finding Algorithms. In Machine Intelligence and \n",
    "# Pattern Recognition, ed. G. T. Toussaint, 6:41–51. Computational Morphology. \n",
    "# North-Holland. doi: 10.1016/B978-0-444-70467-2.50009-6.\n",
    "# and also\n",
    "# Wolter, J. D., T. C. Woo, and R. A. Volz. 1985. Optimal algorithms for \n",
    "# symmetry detection in two and three dimensions. The Visual Computer 1(1): \n",
    "# 37–48. doi: 10.1007/BF01901268.\n",
    "def find_symmetries(p:geom.Polygon) -> tuple[tuple[float], tuple[float]]:\n",
    "  encoded_polygon = get_lengths_and_angles(p)\n",
    "  plain_code = encoded_polygon[:-1]\n",
    "  n = len(plain_code)\n",
    "  # rotations\n",
    "  S = plain_code + plain_code[:-1]\n",
    "  rotation_matches = find_matches(S, plain_code)\n",
    "  print(f\"{rotation_matches=}\")\n",
    "  # reflections\n",
    "  reflected_code = list(reversed(encoded_polygon[1:]))\n",
    "  S = list(reversed(S))\n",
    "  reflection_matches = find_matches(S, reflected_code)\n",
    "  print(f\"{reflection_matches=}\")\n",
    "  reflections = []\n",
    "  edge_bearings = list(reversed(get_edge_bearings(p)))\n",
    "  for m in reflection_matches:\n",
    "    i = (n + m) // 2\n",
    "    print(f\"{n=},{m=},{i=},{'edge' if (n+m)%2==0 else 'corner'}\")\n",
    "    if (n + m) % 2 == 0:\n",
    "      reflections.append((edge_bearings[i] - 90) % 360)\n",
    "    else:\n",
    "      reflections.append(edge_bearings[i] + plain_code[i][1] / 2)\n",
    "  \n",
    "  return {\"rotations\": tuple([x / n * 360 for x in rotation_matches]),\n",
    "          \"reflections\": tuple(reflections)}\n"
   ]
  },
  {
   "cell_type": "code",
   "execution_count": 1102,
   "metadata": {},
   "outputs": [
    {
     "name": "stdout",
     "output_type": "stream",
     "text": [
      "rotation_matches=[0]\n",
      "reflection_matches=[1]\n",
      "n=3,m=1,i=2,edge\n"
     ]
    },
    {
     "data": {
      "text/plain": [
       "{'rotations': (0.0,), 'reflections': (335.20871910372244,)}"
      ]
     },
     "execution_count": 1102,
     "metadata": {},
     "output_type": "execute_result"
    }
   ],
   "source": [
    "poly = affine.scale(tiling_utils.get_regular_polygon(1000, n = 3), 0.8)\n",
    "# poly = tiling_utils.get_regular_polygon(1000, n = 4)\n",
    "# poly = tiling_utils.get_regular_polygon(1000, n = 5)\n",
    "# poly = TileUnit(tiling_type = \"hex-dissection\", n = 3).elements.geometry[0]\n",
    "# poly = TileUnit(tiling_type = \"hex-dissection\", n = 12).elements.geometry[0]\n",
    "# poly = TileUnit(tiling_type = \"hex-dissection\", n = 6).elements.geometry[0]\n",
    "# poly = TileUnit(tiling_type = \"cairo\", n = 3).elements.geometry[0]\n",
    "poly = affine.translate(poly, -poly.centroid.x, -poly.centroid.y)\n",
    "\n",
    "symmetries = find_symmetries(poly)\n",
    "symmetries"
   ]
  },
  {
   "cell_type": "code",
   "execution_count": 1103,
   "metadata": {},
   "outputs": [
    {
     "data": {
      "image/png": "[encoded data removed]",
      "text/plain": [
       "<Figure size 640x480 with 1 Axes>"
      ]
     },
     "metadata": {},
     "output_type": "display_data"
    }
   ],
   "source": [
    "mirror_lines = symmetries[\"reflections\"]\n",
    "ax = gpd.GeoSeries([poly]).plot()\n",
    "if len(mirror_lines) > 0:\n",
    "  gpd.GeoSeries([affine.rotate(geom.LineString([(-750, 0), (750, 0)]), a) for a in mirror_lines]).plot(ax = ax, color = \"k\", ls = \"dotted\", lw = 0.75)\n",
    "for i, p in enumerate(poly.exterior.coords):\n",
    "  ax.annotate(text = i, xy = p)"
   ]
  },
  {
   "cell_type": "code",
   "execution_count": 1038,
   "metadata": {},
   "outputs": [
    {
     "data": {
      "text/plain": [
       "([0, 1, 2, 3, 4], [0, 1, 2, 3, 4])"
      ]
     },
     "execution_count": 1038,
     "metadata": {},
     "output_type": "execute_result"
    }
   ],
   "source": [
    "poly = affine.scale(tiling_utils.get_regular_polygon(1000, n = 5), 1)\n",
    "\n",
    "pat = get_lengths_and_angles(poly)\n",
    "X = pat[:-1]\n",
    "rX = list(reversed(pat[1:]))\n",
    "S = X + X[:-1]\n",
    "rS = list(reversed(S))\n",
    "find_matches(S, X), find_matches(rS, rX)"
   ]
  }
 ],
 "metadata": {
  "kernelspec": {
   "display_name": "weaving",
   "language": "python",
   "name": "python3"
  },
  "language_info": {
   "codemirror_mode": {
    "name": "ipython",
    "version": 3
   },
   "file_extension": ".py",
   "mimetype": "text/x-python",
   "name": "python",
   "nbconvert_exporter": "python",
   "pygments_lexer": "ipython3",
   "version": "3.12.0"
  }
 },
 "nbformat": 4,
 "nbformat_minor": 2
}

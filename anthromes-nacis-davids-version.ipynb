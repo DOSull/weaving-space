{
 "cells": [
  {
   "cell_type": "code",
   "execution_count": 29,
   "metadata": {},
   "outputs": [],
   "source": [
    "%matplotlib inline\n",
    "from matplotlib import pyplot\n",
    "import geopandas as gpd\n",
    "import pandas as pd\n",
    "import numpy as np\n",
    "\n",
    "from weavingspace import TileUnit\n",
    "from weavingspace import Tiling"
   ]
  },
  {
   "cell_type": "raw",
   "metadata": {},
   "source": [
    "# anthromes_geom_gdf = gpd.read_file(\"anthromes/Anthromes-12k-DGG/an12_dgg_inputs/Anthromes-12k-DGG/an12_dgg_inputs.shp\")\n",
    "anthromes_geom_gdf = gpd.read_file(\"C:/data/Anthromes-12k-DGG/an12_dgg_inputs.shp\")\n",
    "\n",
    "#anthromes_attrib_df = pd.read_csv(\"anthromes/Anthromes-12k-DGG/an12_dgg_inputs/Anthromes-12k-DGG/an12_dgg_baseline.csv\")\n",
    "anthromes_attrib_df = pd.read_csv(\"C:/data/Anthromes-12k-DGG/an12_dgg_baseline.csv\")\n",
    "\n",
    "world_boundaries_gdf = gpd.read_file(\"NACIS-2022/wgs84-densified-world-extent.gpkg\")"
   ]
  },
  {
   "cell_type": "raw",
   "metadata": {},
   "source": [
    "anthromes_geom_gdf"
   ]
  },
  {
   "cell_type": "raw",
   "metadata": {},
   "source": [
    "anthromes_attrib_df"
   ]
  },
  {
   "cell_type": "raw",
   "metadata": {},
   "source": [
    "anthromes_gdf = anthromes_geom_gdf.merge(anthromes_attrib_df,how='left',on='id')\n",
    "anthromes_gdf"
   ]
  },
  {
   "cell_type": "raw",
   "metadata": {},
   "source": [
    "anthromes_dissolved_gdf = anthromes_gdf[['geometry','1800AD','1900AD','2017AD']].dissolve(by=['1800AD','1900AD','2017AD'],as_index=False)"
   ]
  },
  {
   "cell_type": "raw",
   "metadata": {},
   "source": [
    "anthromes_dissolved_gdf.geometry = anthromes_dissolved_gdf.buffer(0.000001, resolution=1, join_style=2)\n",
    "anthromes_dissolved_gdf = anthromes_dissolved_gdf.dissolve(by=['1800AD','1900AD','2017AD'],as_index=False)\n",
    "anthromes_dissolved_gdf.geometry = anthromes_dissolved_gdf.buffer(-0.000001,resolution=1, join_style=2)\n",
    "anthromes_dissolved_gdf.to_crs(epsg=8857).is_valid.all()"
   ]
  },
  {
   "cell_type": "raw",
   "metadata": {},
   "source": [
    "anthromes_dissolved_gdf.to_crs(epsg=8857).is_valid.all()"
   ]
  },
  {
   "cell_type": "raw",
   "metadata": {},
   "source": [
    "anthromes_dissolved_gdf"
   ]
  },
  {
   "cell_type": "raw",
   "metadata": {},
   "source": [
    "anthromes_land_regions_gdf = anthromes_dissolved_gdf.dissolve()"
   ]
  },
  {
   "cell_type": "raw",
   "metadata": {},
   "source": [
    "# this is expected to be False--it's why we repair below.\n",
    "anthromes_land_regions_gdf.to_crs(epsg=8857).is_valid.all()"
   ]
  },
  {
   "cell_type": "raw",
   "metadata": {},
   "source": [
    "anthromes_land_regions_gdf.geometry = anthromes_land_regions_gdf.buffer(0.000001, resolution=1, join_style=2)\n",
    "anthromes_land_regions_gdf = anthromes_land_regions_gdf.dissolve(by=['1800AD','1900AD','2017AD'],as_index=False)\n",
    "anthromes_land_regions_gdf.geometry = anthromes_land_regions_gdf.buffer(-0.000001,resolution=1, join_style=2)\n",
    "anthromes_land_regions_gdf.to_crs(epsg=8857).is_valid.all()"
   ]
  },
  {
   "cell_type": "raw",
   "metadata": {},
   "source": [
    "world_boundaries_gdf['1800AD'] = 0\n",
    "world_boundaries_gdf['1900AD'] = 0\n",
    "world_boundaries_gdf['2017AD'] = 0\n",
    "world_boundaries_gdf\n"
   ]
  },
  {
   "cell_type": "raw",
   "metadata": {},
   "source": [
    "oceans_without_anthromes_gdf = gpd.overlay(world_boundaries_gdf,anthromes_land_regions_gdf,how='difference')\n",
    "oceans_without_anthromes_gdf.plot()\n",
    "oceans_without_anthromes_gdf"
   ]
  },
  {
   "cell_type": "raw",
   "metadata": {},
   "source": [
    "oceans_without_anthromes_gdf.to_crs(epsg=8857).is_valid.all()"
   ]
  },
  {
   "cell_type": "raw",
   "metadata": {},
   "source": [
    "dissolved_anthromes_with_oceans_gdf = anthromes_dissolved_gdf.append(oceans_without_anthromes_gdf).to_crs(epsg=8857)\n",
    "dissolved_anthromes_with_oceans_gdf.plot()"
   ]
  },
  {
   "cell_type": "raw",
   "metadata": {},
   "source": [
    "dissolved_anthromes_with_oceans_gdf.to_file(\"NACIS-2022/anthromes.gpkg\", layer='anthromes', driver=\"GPKG\")\n",
    "dissolved_anthromes_with_oceans_gdf = gpd.read_file(\"NACIS-2022/anthromes.gpkg\", layer='anthromes', driver=\"GPKG\")\n",
    "dissolved_anthromes_with_oceans_gdf.index.name = 'dissolved_id'\n",
    "dissolved_anthromes_with_oceans_gdf.to_file(\"NACIS-2022/anthromes.gpkg\", layer='anthromes', driver=\"GPKG\")"
   ]
  },
  {
   "cell_type": "code",
   "execution_count": 30,
   "metadata": {},
   "outputs": [
    {
     "data": {
      "text/html": [
       "<div>\n",
       "<style scoped>\n",
       "    .dataframe tbody tr th:only-of-type {\n",
       "        vertical-align: middle;\n",
       "    }\n",
       "\n",
       "    .dataframe tbody tr th {\n",
       "        vertical-align: top;\n",
       "    }\n",
       "\n",
       "    .dataframe thead th {\n",
       "        text-align: right;\n",
       "    }\n",
       "</style>\n",
       "<table border=\"1\" class=\"dataframe\">\n",
       "  <thead>\n",
       "    <tr style=\"text-align: right;\">\n",
       "      <th></th>\n",
       "      <th>dissolved_id</th>\n",
       "      <th>1800AD</th>\n",
       "      <th>1900AD</th>\n",
       "      <th>2017AD</th>\n",
       "      <th>geometry</th>\n",
       "    </tr>\n",
       "  </thead>\n",
       "  <tbody>\n",
       "    <tr>\n",
       "      <th>0</th>\n",
       "      <td>0</td>\n",
       "      <td>11</td>\n",
       "      <td>11</td>\n",
       "      <td>11</td>\n",
       "      <td>MULTIPOLYGON (((10956991.270 4637292.644, 1095...</td>\n",
       "    </tr>\n",
       "    <tr>\n",
       "      <th>1</th>\n",
       "      <td>1</td>\n",
       "      <td>11</td>\n",
       "      <td>23</td>\n",
       "      <td>11</td>\n",
       "      <td>POLYGON ((-465746.168 6309381.175, -471477.536...</td>\n",
       "    </tr>\n",
       "    <tr>\n",
       "      <th>2</th>\n",
       "      <td>2</td>\n",
       "      <td>12</td>\n",
       "      <td>11</td>\n",
       "      <td>11</td>\n",
       "      <td>MULTIPOLYGON (((11864618.365 4311334.857, 1186...</td>\n",
       "    </tr>\n",
       "    <tr>\n",
       "      <th>3</th>\n",
       "      <td>3</td>\n",
       "      <td>12</td>\n",
       "      <td>12</td>\n",
       "      <td>11</td>\n",
       "      <td>MULTIPOLYGON (((11756787.375 5269523.964, 1176...</td>\n",
       "    </tr>\n",
       "    <tr>\n",
       "      <th>4</th>\n",
       "      <td>4</td>\n",
       "      <td>12</td>\n",
       "      <td>12</td>\n",
       "      <td>12</td>\n",
       "      <td>MULTIPOLYGON (((14603364.466 -394422.814, 1460...</td>\n",
       "    </tr>\n",
       "    <tr>\n",
       "      <th>...</th>\n",
       "      <td>...</td>\n",
       "      <td>...</td>\n",
       "      <td>...</td>\n",
       "      <td>...</td>\n",
       "      <td>...</td>\n",
       "    </tr>\n",
       "    <tr>\n",
       "      <th>1370</th>\n",
       "      <td>1370</td>\n",
       "      <td>63</td>\n",
       "      <td>63</td>\n",
       "      <td>43</td>\n",
       "      <td>MULTIPOLYGON (((12936070.376 -1482822.556, 129...</td>\n",
       "    </tr>\n",
       "    <tr>\n",
       "      <th>1371</th>\n",
       "      <td>1371</td>\n",
       "      <td>63</td>\n",
       "      <td>63</td>\n",
       "      <td>54</td>\n",
       "      <td>MULTIPOLYGON (((11314195.005 7682244.987, 1130...</td>\n",
       "    </tr>\n",
       "    <tr>\n",
       "      <th>1372</th>\n",
       "      <td>1372</td>\n",
       "      <td>63</td>\n",
       "      <td>63</td>\n",
       "      <td>62</td>\n",
       "      <td>MULTIPOLYGON (((7591010.270 4501518.274, 75938...</td>\n",
       "    </tr>\n",
       "    <tr>\n",
       "      <th>1373</th>\n",
       "      <td>1373</td>\n",
       "      <td>63</td>\n",
       "      <td>63</td>\n",
       "      <td>63</td>\n",
       "      <td>MULTIPOLYGON (((12129159.917 7443285.135, 1212...</td>\n",
       "    </tr>\n",
       "    <tr>\n",
       "      <th>1374</th>\n",
       "      <td>1374</td>\n",
       "      <td>0</td>\n",
       "      <td>0</td>\n",
       "      <td>0</td>\n",
       "      <td>MULTIPOLYGON (((-10216756.377 -8392807.730, -1...</td>\n",
       "    </tr>\n",
       "  </tbody>\n",
       "</table>\n",
       "<p>1375 rows × 5 columns</p>\n",
       "</div>"
      ],
      "text/plain": [
       "      dissolved_id  1800AD  1900AD  2017AD  \\\n",
       "0                0      11      11      11   \n",
       "1                1      11      23      11   \n",
       "2                2      12      11      11   \n",
       "3                3      12      12      11   \n",
       "4                4      12      12      12   \n",
       "...            ...     ...     ...     ...   \n",
       "1370          1370      63      63      43   \n",
       "1371          1371      63      63      54   \n",
       "1372          1372      63      63      62   \n",
       "1373          1373      63      63      63   \n",
       "1374          1374       0       0       0   \n",
       "\n",
       "                                               geometry  \n",
       "0     MULTIPOLYGON (((10956991.270 4637292.644, 1095...  \n",
       "1     POLYGON ((-465746.168 6309381.175, -471477.536...  \n",
       "2     MULTIPOLYGON (((11864618.365 4311334.857, 1186...  \n",
       "3     MULTIPOLYGON (((11756787.375 5269523.964, 1176...  \n",
       "4     MULTIPOLYGON (((14603364.466 -394422.814, 1460...  \n",
       "...                                                 ...  \n",
       "1370  MULTIPOLYGON (((12936070.376 -1482822.556, 129...  \n",
       "1371  MULTIPOLYGON (((11314195.005 7682244.987, 1130...  \n",
       "1372  MULTIPOLYGON (((7591010.270 4501518.274, 75938...  \n",
       "1373  MULTIPOLYGON (((12129159.917 7443285.135, 1212...  \n",
       "1374  MULTIPOLYGON (((-10216756.377 -8392807.730, -1...  \n",
       "\n",
       "[1375 rows x 5 columns]"
      ]
     },
     "execution_count": 30,
     "metadata": {},
     "output_type": "execute_result"
    }
   ],
   "source": [
    "dissolved_anthromes_with_oceans_gdf = gpd.read_file(\"NACIS-2022/anthromes.gpkg\", layer='anthromes', driver=\"GPKG\")\n",
    "dissolved_anthromes_with_oceans_gdf"
   ]
  },
  {
   "cell_type": "code",
   "execution_count": 31,
   "metadata": {},
   "outputs": [
    {
     "data": {
      "text/html": [
       "<div>\n",
       "<style scoped>\n",
       "    .dataframe tbody tr th:only-of-type {\n",
       "        vertical-align: middle;\n",
       "    }\n",
       "\n",
       "    .dataframe tbody tr th {\n",
       "        vertical-align: top;\n",
       "    }\n",
       "\n",
       "    .dataframe thead th {\n",
       "        text-align: right;\n",
       "    }\n",
       "</style>\n",
       "<table border=\"1\" class=\"dataframe\">\n",
       "  <thead>\n",
       "    <tr style=\"text-align: right;\">\n",
       "      <th></th>\n",
       "      <th>dissolved_id</th>\n",
       "      <th>1800AD</th>\n",
       "      <th>1900AD</th>\n",
       "      <th>2017AD</th>\n",
       "      <th>geometry</th>\n",
       "    </tr>\n",
       "  </thead>\n",
       "  <tbody>\n",
       "    <tr>\n",
       "      <th>0</th>\n",
       "      <td>0</td>\n",
       "      <td>11</td>\n",
       "      <td>11</td>\n",
       "      <td>11</td>\n",
       "      <td>POLYGON ((10956991.270 4637292.644, 10951661.5...</td>\n",
       "    </tr>\n",
       "    <tr>\n",
       "      <th>1</th>\n",
       "      <td>0</td>\n",
       "      <td>11</td>\n",
       "      <td>11</td>\n",
       "      <td>11</td>\n",
       "      <td>POLYGON ((10822422.616 3911051.716, 10817483.1...</td>\n",
       "    </tr>\n",
       "    <tr>\n",
       "      <th>2</th>\n",
       "      <td>0</td>\n",
       "      <td>11</td>\n",
       "      <td>11</td>\n",
       "      <td>11</td>\n",
       "      <td>POLYGON ((10756947.432 3908140.236, 10751913.3...</td>\n",
       "    </tr>\n",
       "    <tr>\n",
       "      <th>3</th>\n",
       "      <td>0</td>\n",
       "      <td>11</td>\n",
       "      <td>11</td>\n",
       "      <td>11</td>\n",
       "      <td>POLYGON ((10707214.123 3938881.227, 10702275.5...</td>\n",
       "    </tr>\n",
       "    <tr>\n",
       "      <th>4</th>\n",
       "      <td>0</td>\n",
       "      <td>11</td>\n",
       "      <td>11</td>\n",
       "      <td>11</td>\n",
       "      <td>POLYGON ((10543105.144 4021090.177, 10548047.0...</td>\n",
       "    </tr>\n",
       "    <tr>\n",
       "      <th>...</th>\n",
       "      <td>...</td>\n",
       "      <td>...</td>\n",
       "      <td>...</td>\n",
       "      <td>...</td>\n",
       "      <td>...</td>\n",
       "    </tr>\n",
       "    <tr>\n",
       "      <th>256573</th>\n",
       "      <td>1374</td>\n",
       "      <td>0</td>\n",
       "      <td>0</td>\n",
       "      <td>0</td>\n",
       "      <td>POLYGON ((-10846850.509 7446007.561, -10836432...</td>\n",
       "    </tr>\n",
       "    <tr>\n",
       "      <th>256574</th>\n",
       "      <td>1374</td>\n",
       "      <td>0</td>\n",
       "      <td>0</td>\n",
       "      <td>0</td>\n",
       "      <td>POLYGON ((-12070264.690 6558267.829, -12080887...</td>\n",
       "    </tr>\n",
       "    <tr>\n",
       "      <th>256575</th>\n",
       "      <td>1374</td>\n",
       "      <td>0</td>\n",
       "      <td>0</td>\n",
       "      <td>0</td>\n",
       "      <td>POLYGON ((-10917886.642 7432852.626, -10918752...</td>\n",
       "    </tr>\n",
       "    <tr>\n",
       "      <th>256576</th>\n",
       "      <td>1374</td>\n",
       "      <td>0</td>\n",
       "      <td>0</td>\n",
       "      <td>0</td>\n",
       "      <td>POLYGON ((-10877585.147 7477808.463, -10888053...</td>\n",
       "    </tr>\n",
       "    <tr>\n",
       "      <th>256577</th>\n",
       "      <td>1374</td>\n",
       "      <td>0</td>\n",
       "      <td>0</td>\n",
       "      <td>0</td>\n",
       "      <td>POLYGON ((-11747964.747 6984849.999, -11742569...</td>\n",
       "    </tr>\n",
       "  </tbody>\n",
       "</table>\n",
       "<p>256578 rows × 5 columns</p>\n",
       "</div>"
      ],
      "text/plain": [
       "        dissolved_id  1800AD  1900AD  2017AD  \\\n",
       "0                  0      11      11      11   \n",
       "1                  0      11      11      11   \n",
       "2                  0      11      11      11   \n",
       "3                  0      11      11      11   \n",
       "4                  0      11      11      11   \n",
       "...              ...     ...     ...     ...   \n",
       "256573          1374       0       0       0   \n",
       "256574          1374       0       0       0   \n",
       "256575          1374       0       0       0   \n",
       "256576          1374       0       0       0   \n",
       "256577          1374       0       0       0   \n",
       "\n",
       "                                                 geometry  \n",
       "0       POLYGON ((10956991.270 4637292.644, 10951661.5...  \n",
       "1       POLYGON ((10822422.616 3911051.716, 10817483.1...  \n",
       "2       POLYGON ((10756947.432 3908140.236, 10751913.3...  \n",
       "3       POLYGON ((10707214.123 3938881.227, 10702275.5...  \n",
       "4       POLYGON ((10543105.144 4021090.177, 10548047.0...  \n",
       "...                                                   ...  \n",
       "256573  POLYGON ((-10846850.509 7446007.561, -10836432...  \n",
       "256574  POLYGON ((-12070264.690 6558267.829, -12080887...  \n",
       "256575  POLYGON ((-10917886.642 7432852.626, -10918752...  \n",
       "256576  POLYGON ((-10877585.147 7477808.463, -10888053...  \n",
       "256577  POLYGON ((-11747964.747 6984849.999, -11742569...  \n",
       "\n",
       "[256578 rows x 5 columns]"
      ]
     },
     "execution_count": 31,
     "metadata": {},
     "output_type": "execute_result"
    }
   ],
   "source": [
    "anthromes = dissolved_anthromes_with_oceans_gdf.explode(\n",
    "  index_parts = False, ignore_index = True)\n",
    "anthromes"
   ]
  },
  {
   "cell_type": "code",
   "execution_count": 32,
   "metadata": {},
   "outputs": [
    {
     "data": {
      "text/plain": [
       "True"
      ]
     },
     "execution_count": 32,
     "metadata": {},
     "output_type": "execute_result"
    }
   ],
   "source": [
    "anthromes.sindex\n",
    "anthromes.has_sindex"
   ]
  },
  {
   "cell_type": "code",
   "execution_count": 33,
   "metadata": {},
   "outputs": [
    {
     "data": {
      "text/html": [
       "<div>\n",
       "<style scoped>\n",
       "    .dataframe tbody tr th:only-of-type {\n",
       "        vertical-align: middle;\n",
       "    }\n",
       "\n",
       "    .dataframe tbody tr th {\n",
       "        vertical-align: top;\n",
       "    }\n",
       "\n",
       "    .dataframe thead th {\n",
       "        text-align: right;\n",
       "    }\n",
       "</style>\n",
       "<table border=\"1\" class=\"dataframe\">\n",
       "  <thead>\n",
       "    <tr style=\"text-align: right;\">\n",
       "      <th></th>\n",
       "      <th>dissolved_id</th>\n",
       "      <th>1800AD</th>\n",
       "      <th>1900AD</th>\n",
       "      <th>2017AD</th>\n",
       "      <th>geometry</th>\n",
       "    </tr>\n",
       "  </thead>\n",
       "  <tbody>\n",
       "    <tr>\n",
       "      <th>0</th>\n",
       "      <td>0</td>\n",
       "      <td>11</td>\n",
       "      <td>11</td>\n",
       "      <td>11</td>\n",
       "      <td>POLYGON ((10956991.270 4637292.644, 10951661.5...</td>\n",
       "    </tr>\n",
       "    <tr>\n",
       "      <th>1</th>\n",
       "      <td>0</td>\n",
       "      <td>11</td>\n",
       "      <td>11</td>\n",
       "      <td>11</td>\n",
       "      <td>POLYGON ((10822422.616 3911051.716, 10817483.1...</td>\n",
       "    </tr>\n",
       "    <tr>\n",
       "      <th>2</th>\n",
       "      <td>0</td>\n",
       "      <td>11</td>\n",
       "      <td>11</td>\n",
       "      <td>11</td>\n",
       "      <td>POLYGON ((10756947.432 3908140.236, 10751913.3...</td>\n",
       "    </tr>\n",
       "    <tr>\n",
       "      <th>3</th>\n",
       "      <td>0</td>\n",
       "      <td>11</td>\n",
       "      <td>11</td>\n",
       "      <td>11</td>\n",
       "      <td>POLYGON ((10707214.123 3938881.227, 10702275.5...</td>\n",
       "    </tr>\n",
       "    <tr>\n",
       "      <th>4</th>\n",
       "      <td>0</td>\n",
       "      <td>11</td>\n",
       "      <td>11</td>\n",
       "      <td>11</td>\n",
       "      <td>POLYGON ((10543105.144 4021090.177, 10548047.0...</td>\n",
       "    </tr>\n",
       "  </tbody>\n",
       "</table>\n",
       "</div>"
      ],
      "text/plain": [
       "   dissolved_id  1800AD  1900AD  2017AD  \\\n",
       "0             0      11      11      11   \n",
       "1             0      11      11      11   \n",
       "2             0      11      11      11   \n",
       "3             0      11      11      11   \n",
       "4             0      11      11      11   \n",
       "\n",
       "                                            geometry  \n",
       "0  POLYGON ((10956991.270 4637292.644, 10951661.5...  \n",
       "1  POLYGON ((10822422.616 3911051.716, 10817483.1...  \n",
       "2  POLYGON ((10756947.432 3908140.236, 10751913.3...  \n",
       "3  POLYGON ((10707214.123 3938881.227, 10702275.5...  \n",
       "4  POLYGON ((10543105.144 4021090.177, 10548047.0...  "
      ]
     },
     "execution_count": 33,
     "metadata": {},
     "output_type": "execute_result"
    }
   ],
   "source": [
    "anthromes.head()"
   ]
  },
  {
   "cell_type": "code",
   "execution_count": 34,
   "metadata": {},
   "outputs": [],
   "source": [
    "unit = TileUnit(tiling_type = \"hex-colouring\", \n",
    "                #  Note these alternatives:\n",
    "                #  tiling_type = \"hex-dissection\", \n",
    "                #  tiling_type = \"hex-dissection\", dissection_offset = 0,\n",
    "                n = 3, crs = anthromes.crs, \n",
    "                spacing = 500000).transform_rotate(15)"
   ]
  },
  {
   "cell_type": "code",
   "execution_count": 35,
   "metadata": {},
   "outputs": [
    {
     "data": {
      "text/plain": [
       "<AxesSubplot:>"
      ]
     },
     "execution_count": 35,
     "metadata": {},
     "output_type": "execute_result"
    },
    {
     "data": {
      "image/png": "[encoded data removed]",
      "text/plain": [
       "<Figure size 576x576 with 1 Axes>"
      ]
     },
     "metadata": {
      "needs_background": "light"
     },
     "output_type": "display_data"
    }
   ],
   "source": [
    "unit = unit.inset_tile(25000)\n",
    "unit.plot(r = 1)"
   ]
  },
  {
   "cell_type": "code",
   "execution_count": 36,
   "metadata": {},
   "outputs": [],
   "source": [
    "tiling = Tiling(unit, anthromes, id_var = \"dissolved_id\")"
   ]
  },
  {
   "cell_type": "code",
   "execution_count": null,
   "metadata": {},
   "outputs": [],
   "source": [
    "Error error error"
   ]
  },
  {
   "cell_type": "code",
   "execution_count": 38,
   "metadata": {},
   "outputs": [],
   "source": [
    "import dask_geopandas\n",
    "dt = dask_geopandas.from_geopandas(tiling.tiles, npartitions = 4)\n",
    "at = dask_geopandas.from_geopandas(anthromes, npartitions = 4)\n",
    "dt.sjoin(at).compute()"
   ]
  },
  {
   "cell_type": "code",
   "execution_count": null,
   "metadata": {},
   "outputs": [],
   "source": [
    "# tiling.region.buffer(tiling.tile_unit.spacing).unary_union"
   ]
  },
  {
   "cell_type": "code",
   "execution_count": null,
   "metadata": {},
   "outputs": [],
   "source": [
    "map = tiling.get_tiled_map(\n",
    "  prioritise_tiles = True, ragged_edges = True, debug = True)"
   ]
  },
  {
   "cell_type": "code",
   "execution_count": null,
   "metadata": {},
   "outputs": [],
   "source": [
    "fig = map.render()"
   ]
  },
  {
   "cell_type": "code",
   "execution_count": null,
   "metadata": {},
   "outputs": [],
   "source": [
    "map.to_file('NACIS-2022/anthromes-tiled-500-20.gpkg')"
   ]
  },
  {
   "cell_type": "code",
   "execution_count": null,
   "metadata": {},
   "outputs": [],
   "source": [
    "this will cause an error"
   ]
  },
  {
   "cell_type": "markdown",
   "metadata": {},
   "source": []
  },
  {
   "cell_type": "code",
   "execution_count": null,
   "metadata": {},
   "outputs": [],
   "source": [
    "map.variables = dict(zip(list(\"abc\"),\n",
    "                        (\"1800AD\", \"1900AD\", \"2017AD\")))\n",
    "map.colourmaps = dict(zip(map.variables.values(), \n",
    "                         (\"Spectral\", \"Spectral\", \"Spectral\")))\n",
    "\n",
    "fig = map.render(legend = False, scheme = \"quantiles\") # quantiles for interest"
   ]
  },
  {
   "cell_type": "code",
   "execution_count": null,
   "metadata": {},
   "outputs": [],
   "source": [
    "map.dpi = 600  # don't ask me what makes sense for DPI\n",
    "map.figsize = (10, 7)\n",
    "\n",
    "fig = map.render(legend = False, scheme = \"quantiles\")"
   ]
  },
  {
   "cell_type": "code",
   "execution_count": null,
   "metadata": {},
   "outputs": [],
   "source": [
    "fig.savefig(\"NACIS-2022/output/another-map.svg\")"
   ]
  }
 ],
 "metadata": {
  "kernelspec": {
   "display_name": "Python 3.10.5 ('weaving')",
   "language": "python",
   "name": "python3"
  },
  "language_info": {
   "codemirror_mode": {
    "name": "ipython",
    "version": 3
   },
   "file_extension": ".py",
   "mimetype": "text/x-python",
   "name": "python",
   "nbconvert_exporter": "python",
   "pygments_lexer": "ipython3",
   "version": "3.10.5"
  },
  "vscode": {
   "interpreter": {
    "hash": "8ebe6d27dded17195585df01103ddf0ba29fa9b848e192691d9412070e1dba2e"
   }
  }
 },
 "nbformat": 4,
 "nbformat_minor": 4
}

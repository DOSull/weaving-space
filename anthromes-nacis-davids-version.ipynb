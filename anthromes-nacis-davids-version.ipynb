{
 "cells": [
  {
   "cell_type": "code",
   "execution_count": null,
   "metadata": {},
   "outputs": [],
   "source": [
    "%matplotlib inline\n",
    "from matplotlib import pyplot\n",
    "import geopandas as gpd\n",
    "import pandas as pd\n",
    "import numpy as np\n",
    "\n",
    "from weavingspace import TileUnit\n",
    "from weavingspace import Tiling"
   ]
  },
  {
   "cell_type": "raw",
   "metadata": {},
   "source": [
    "# anthromes_geom_gdf = gpd.read_file(\"anthromes/Anthromes-12k-DGG/an12_dgg_inputs/Anthromes-12k-DGG/an12_dgg_inputs.shp\")\n",
    "anthromes_geom_gdf = gpd.read_file(\"C:/data/Anthromes-12k-DGG/an12_dgg_inputs.shp\")\n",
    "\n",
    "#anthromes_attrib_df = pd.read_csv(\"anthromes/Anthromes-12k-DGG/an12_dgg_inputs/Anthromes-12k-DGG/an12_dgg_baseline.csv\")\n",
    "anthromes_attrib_df = pd.read_csv(\"C:/data/Anthromes-12k-DGG/an12_dgg_baseline.csv\")\n",
    "\n",
    "world_boundaries_gdf = gpd.read_file(\"NACIS-2022/wgs84-densified-world-extent.gpkg\")"
   ]
  },
  {
   "cell_type": "raw",
   "metadata": {},
   "source": [
    "anthromes_geom_gdf"
   ]
  },
  {
   "cell_type": "raw",
   "metadata": {},
   "source": [
    "anthromes_attrib_df"
   ]
  },
  {
   "cell_type": "raw",
   "metadata": {},
   "source": [
    "anthromes_gdf = anthromes_geom_gdf.merge(anthromes_attrib_df,how='left',on='id')\n",
    "anthromes_gdf"
   ]
  },
  {
   "cell_type": "raw",
   "metadata": {},
   "source": [
    "anthromes_dissolved_gdf = anthromes_gdf[['geometry','1800AD','1900AD','2017AD']].dissolve(by=['1800AD','1900AD','2017AD'],as_index=False)"
   ]
  },
  {
   "cell_type": "raw",
   "metadata": {},
   "source": [
    "anthromes_dissolved_gdf.geometry = anthromes_dissolved_gdf.buffer(0.000001, resolution=1, join_style=2)\n",
    "anthromes_dissolved_gdf = anthromes_dissolved_gdf.dissolve(by=['1800AD','1900AD','2017AD'],as_index=False)\n",
    "anthromes_dissolved_gdf.geometry = anthromes_dissolved_gdf.buffer(-0.000001,resolution=1, join_style=2)\n",
    "anthromes_dissolved_gdf.to_crs(epsg=8857).is_valid.all()"
   ]
  },
  {
   "cell_type": "raw",
   "metadata": {},
   "source": [
    "anthromes_dissolved_gdf.to_crs(epsg=8857).is_valid.all()"
   ]
  },
  {
   "cell_type": "raw",
   "metadata": {},
   "source": [
    "anthromes_dissolved_gdf"
   ]
  },
  {
   "cell_type": "raw",
   "metadata": {},
   "source": [
    "anthromes_land_regions_gdf = anthromes_dissolved_gdf.dissolve()"
   ]
  },
  {
   "cell_type": "raw",
   "metadata": {},
   "source": [
    "# this is expected to be False--it's why we repair below.\n",
    "anthromes_land_regions_gdf.to_crs(epsg=8857).is_valid.all()"
   ]
  },
  {
   "cell_type": "raw",
   "metadata": {},
   "source": [
    "anthromes_land_regions_gdf.geometry = anthromes_land_regions_gdf.buffer(0.000001, resolution=1, join_style=2)\n",
    "anthromes_land_regions_gdf = anthromes_land_regions_gdf.dissolve(by=['1800AD','1900AD','2017AD'],as_index=False)\n",
    "anthromes_land_regions_gdf.geometry = anthromes_land_regions_gdf.buffer(-0.000001,resolution=1, join_style=2)\n",
    "anthromes_land_regions_gdf.to_crs(epsg=8857).is_valid.all()"
   ]
  },
  {
   "cell_type": "raw",
   "metadata": {},
   "source": [
    "world_boundaries_gdf['1800AD'] = 0\n",
    "world_boundaries_gdf['1900AD'] = 0\n",
    "world_boundaries_gdf['2017AD'] = 0\n",
    "world_boundaries_gdf\n"
   ]
  },
  {
   "cell_type": "raw",
   "metadata": {},
   "source": [
    "oceans_without_anthromes_gdf = gpd.overlay(world_boundaries_gdf,anthromes_land_regions_gdf,how='difference')\n",
    "oceans_without_anthromes_gdf.plot()\n",
    "oceans_without_anthromes_gdf"
   ]
  },
  {
   "cell_type": "raw",
   "metadata": {},
   "source": [
    "oceans_without_anthromes_gdf.to_crs(epsg=8857).is_valid.all()"
   ]
  },
  {
   "cell_type": "raw",
   "metadata": {},
   "source": [
    "dissolved_anthromes_with_oceans_gdf = anthromes_dissolved_gdf.append(oceans_without_anthromes_gdf).to_crs(epsg=8857)\n",
    "dissolved_anthromes_with_oceans_gdf.plot()"
   ]
  },
  {
   "cell_type": "raw",
   "metadata": {},
   "source": [
    "dissolved_anthromes_with_oceans_gdf.to_file(\"NACIS-2022/anthromes.gpkg\", layer='anthromes', driver=\"GPKG\")\n",
    "dissolved_anthromes_with_oceans_gdf = gpd.read_file(\"NACIS-2022/anthromes.gpkg\", layer='anthromes', driver=\"GPKG\")\n",
    "dissolved_anthromes_with_oceans_gdf.index.name = 'dissolved_id'\n",
    "dissolved_anthromes_with_oceans_gdf.to_file(\"NACIS-2022/anthromes.gpkg\", layer='anthromes', driver=\"GPKG\")"
   ]
  },
  {
   "cell_type": "code",
   "execution_count": null,
   "metadata": {},
   "outputs": [],
   "source": [
    "dissolved_anthromes_with_oceans_gdf = gpd.read_file(\"NACIS-2022/anthromes.gpkg\", layer='anthromes', driver=\"GPKG\")\n",
    "dissolved_anthromes_with_oceans_gdf"
   ]
  },
  {
   "cell_type": "code",
   "execution_count": null,
   "metadata": {},
   "outputs": [],
   "source": [
    "anthromes = dissolved_anthromes_with_oceans_gdf.explode(\n",
    "  index_parts = False, ignore_index = True)\n",
    "anthromes"
   ]
  },
  {
   "cell_type": "code",
   "execution_count": null,
   "metadata": {},
   "outputs": [],
   "source": [
    "anthromes.sindex\n",
    "anthromes.has_sindex"
   ]
  },
  {
   "cell_type": "code",
   "execution_count": null,
   "metadata": {},
   "outputs": [],
   "source": [
    "anthromes.head()"
   ]
  },
  {
   "cell_type": "code",
   "execution_count": null,
   "metadata": {},
   "outputs": [],
   "source": [
    "unit = TileUnit(tiling_type = \"hex-colouring\", \n",
    "                #  Note these alternatives:\n",
    "                #  tiling_type = \"hex-dissection\", \n",
    "                #  tiling_type = \"hex-dissection\", dissection_offset = 0,\n",
    "                n = 3, crs = anthromes.crs, \n",
    "                spacing = 500000).transform_rotate(15)"
   ]
  },
  {
   "cell_type": "code",
   "execution_count": null,
   "metadata": {},
   "outputs": [],
   "source": [
    "unit = unit.inset_tile(20000)\n",
    "unit.plot(r = 1)"
   ]
  },
  {
   "cell_type": "code",
   "execution_count": null,
   "metadata": {},
   "outputs": [],
   "source": [
    "tiling = Tiling(unit, anthromes, id_var = \"dissolved_id\")"
   ]
  },
  {
   "cell_type": "code",
   "execution_count": null,
   "metadata": {},
   "outputs": [],
   "source": [
    "# tiling.region.buffer(tiling.tile_unit.spacing).unary_union"
   ]
  },
  {
   "cell_type": "code",
   "execution_count": null,
   "metadata": {},
   "outputs": [],
   "source": [
    "map = tiling.get_tiled_map(\n",
    "  prioritise_tiles = True, ragged_edges = True, debug = True)"
   ]
  },
  {
   "cell_type": "code",
   "execution_count": null,
   "metadata": {},
   "outputs": [],
   "source": [
    "fig = map.render()"
   ]
  },
  {
   "cell_type": "code",
   "execution_count": null,
   "metadata": {},
   "outputs": [],
   "source": [
    "map.to_file('NACIS-2022/anthromes-tiled-500-20.gpkg')"
   ]
  },
  {
   "cell_type": "code",
   "execution_count": null,
   "metadata": {},
   "outputs": [],
   "source": [
    "this will cause an error"
   ]
  },
  {
   "cell_type": "markdown",
   "metadata": {},
   "source": []
  },
  {
   "cell_type": "code",
   "execution_count": null,
   "metadata": {},
   "outputs": [],
   "source": [
    "map.variables = dict(zip(list(\"abc\"),\n",
    "                        (\"1800AD\", \"1900AD\", \"2017AD\")))\n",
    "map.colourmaps = dict(zip(map.variables.values(), \n",
    "                         (\"Spectral\", \"Spectral\", \"Spectral\")))\n",
    "\n",
    "fig = map.render(legend = False, scheme = \"quantiles\") # quantiles for interest"
   ]
  },
  {
   "cell_type": "code",
   "execution_count": null,
   "metadata": {},
   "outputs": [],
   "source": [
    "map.dpi = 600  # don't ask me what makes sense for DPI\n",
    "map.figsize = (10, 7)\n",
    "\n",
    "fig = map.render(legend = False, scheme = \"quantiles\")"
   ]
  },
  {
   "cell_type": "code",
   "execution_count": null,
   "metadata": {},
   "outputs": [],
   "source": [
    "fig.savefig(\"NACIS-2022/output/another-map.svg\")"
   ]
  }
 ],
 "metadata": {
  "kernelspec": {
   "display_name": "Python 3.10.5 ('weaving')",
   "language": "python",
   "name": "python3"
  },
  "language_info": {
   "codemirror_mode": {
    "name": "ipython",
    "version": 3
   },
   "file_extension": ".py",
   "mimetype": "text/x-python",
   "name": "python",
   "nbconvert_exporter": "python",
   "pygments_lexer": "ipython3",
   "version": "3.10.5"
  },
  "vscode": {
   "interpreter": {
    "hash": "8ebe6d27dded17195585df01103ddf0ba29fa9b848e192691d9412070e1dba2e"
   }
  }
 },
 "nbformat": 4,
 "nbformat_minor": 4
}

{
 "cells": [
  {
   "cell_type": "markdown",
   "id": "d19b0e1e",
   "metadata": {},
   "source": [
    "# Tileable biaxial weave units\n",
    "Functions that can be used to generate sf data 'weave units' i.e. a tileable repeating element that when tiled gives the appearance of a  biaxial woven surface composed of criss-crossing rectangular elements. Implementation is based on ideas discussed in variously\n",
    "\n",
    "+ Glassner, A. 2002. Digital weaving. 1. IEEE Computer Graphics and Applications 22 (6):108–118.\n",
    "+ ———. 2003a. Digital weaving. 3. IEEE Computer Graphics and Applications 23 (2):80–83.\n",
    "+ ———. 2003b. Digital weaving. 2. IEEE Computer Graphics and Applications 23 (1):77–90.\n",
    "\n",
    "and (unpublished)\n",
    "\n",
    "+ Griswold, R. 2006. [Mathematical and Computational Topics in Weaving](https://www2.cs.arizona.edu/patterns/weaving/webdocs/mo/Griswold-MO.pdf) (last accessed 29 October 2021).\n",
    "\n",
    "where weaving is shown to be essentially a matrix multiplication of tie-up, threading and treadling matrices. An accessible introduction can be found at\n",
    "\n",
    "+ https://www.youtube.com/watch?v=oMOSiag3dxg\n"
   ]
  },
  {
   "cell_type": "code",
   "execution_count": 4,
   "id": "b2052d44-a325-49ce-920d-be5ef09b578c",
   "metadata": {},
   "outputs": [],
   "source": [
    "import pandas\n",
    "import shapely\n",
    "import numpy as np\n",
    "import random\n",
    "import re"
   ]
  },
  {
   "cell_type": "markdown",
   "id": "e96af732",
   "metadata": {},
   "source": [
    "## Some strand label parser stuff\n",
    "This is much nicer in python than in R"
   ]
  },
  {
   "cell_type": "code",
   "execution_count": 5,
   "id": "33284062",
   "metadata": {},
   "outputs": [],
   "source": [
    "def parse_labels(ids):\n",
    "    output = ids.split(\"|\")\n",
    "    if len(output) == 2:\n",
    "        output.append(\"-\")\n",
    "    return(output)\n",
    "    \n",
    "def parse_strand_label(s):\n",
    "    clean_s = re.sub(\"[(]+\", \"(\", re.sub(\"[)]+\", \")\", s))\n",
    "    is_combo = False\n",
    "    output = []\n",
    "    current = \"\"\n",
    "    for c in clean_s:\n",
    "        if is_combo:\n",
    "            if c == \")\":\n",
    "                output.append(current)\n",
    "                current = \"\"\n",
    "                is_combo = False\n",
    "            else:\n",
    "                current = current + c\n",
    "        else:\n",
    "            if c == \"(\":\n",
    "                is_combo = True\n",
    "            else:\n",
    "                output.append(c)\n",
    "    return output\n",
    "\n",
    "def get_strand_ids(strands_spec):\n",
    "    return [parse_strand_label(x) for x in parse_labels(strands_spec)]"
   ]
  },
  {
   "cell_type": "code",
   "execution_count": 6,
   "id": "fc678f06-7197-4026-b879-b53eee83e7b9",
   "metadata": {},
   "outputs": [],
   "source": [
    "# augment matrix by adding `by` rows and columns identical to \n",
    "# the first row and first column of \n",
    "def augment_matrix(m, by = 1):\n",
    "    s = np.array(m.shape)\n",
    "    s_aug = s + by\n",
    "    scale = tuple(np.ceil(s_aug / s).astype(np.int32))\n",
    "    return np.tile(m, scale)[0:(tuple(s_aug)[0]), 0:(tuple(s_aug)[1])]"
   ]
  },
  {
   "cell_type": "code",
   "execution_count": 7,
   "id": "646ccd16",
   "metadata": {},
   "outputs": [],
   "source": [
    "def augment_matrix_with_values(m, by = 1, values = 0):\n",
    "    output = augment_matrix(m, by)\n",
    "    s1 = m.shape\n",
    "    s2 = output.shape\n",
    "    output[s1[0]:s2[0], :] = values\n",
    "    output[:, s1[1]:s2[1]] = values\n",
    "    return output"
   ]
  },
  {
   "cell_type": "code",
   "execution_count": 8,
   "id": "6e3f4abe",
   "metadata": {},
   "outputs": [],
   "source": [
    "def reps_needed(x1, x2):\n",
    "    n = np.lcm(x1, x2)\n",
    "    return tuple(int(i) for i in (n / x1, n / x2))"
   ]
  },
  {
   "cell_type": "code",
   "execution_count": 9,
   "id": "00224b93",
   "metadata": {},
   "outputs": [],
   "source": [
    "# Returns a 1/2 encoded weave matrix given tie_up, treadling and\n",
    "# threading matrices. The following conditions must be satisfied to\n",
    "# avoid non-conformable matrix error:\n",
    "# The \"twill\", \"random\", \"basket\" and \"plain\" options should guarantee\n",
    "# this, but the \"this\" option requires the user to make this happen\n",
    "# If the warp_n and weft_n values are not factors of nrow(treadling) and\n",
    "# ncol(threading) respectively, the output matrix will be repeated as\n",
    "# needed to make this match\n",
    "def get_pattern(tie_up, treadling, threading, warp_n, weft_n, rep = 1):\n",
    "    pattern = (treadling @ tie_up @ threading > 0) + 0\n",
    "    rep_warp = reps_needed(warp_n, pattern.shape[1])\n",
    "    rep_weft = reps_needed(weft_n, pattern.shape[0])\n",
    "    return np.tile(pattern, (rep_weft[1] * rep, rep_warp[1] * rep))"
   ]
  },
  {
   "cell_type": "code",
   "execution_count": 60,
   "id": "9b12dccc",
   "metadata": {},
   "outputs": [],
   "source": [
    "# Note that as currently written this function requires the warp and weft\n",
    "# matrices to be the same size, which get_weave_pattern_matrix will ensure, b\n",
    "# but which may not be the case if called from elsewhere\n",
    "def encode_biaxial_weave(pattern, warp, weft):\n",
    "    pattern = np.where(pattern == 1, 5, pattern)         # warp present and on top\n",
    "    pattern = np.where(pattern == 0, 4, pattern)         # weft present and on top\n",
    "    pattern = np.where(warp < 0, 1, pattern)             # warp absent\n",
    "    pattern = np.where(weft < 0, 2, pattern)             # weft absent\n",
    "    return np.where((warp < 0) & (weft < 0), 3, pattern)   # both absent"
   ]
  },
  {
   "cell_type": "code",
   "execution_count": 61,
   "id": "b415cb4b",
   "metadata": {},
   "outputs": [],
   "source": [
    "bi_to_tri = [\n",
    "    {1: 1, 2:2, 3:None, 4:(1,2), 5:(2,1)},\n",
    "    {1: 2, 2:1, 3:None, 4:(2,1), 5:(1,2)},\n",
    "    {1: 3, 2:2, 3:None, 4:(3,2), 5:(2,3)},\n",
    "    {1: 1, 2:3, 3:None, 4:(1,3), 5:(3,1)}\n",
    "]\n",
    "\n",
    "def decode_biaxial_to_order(code, axis = 0):\n",
    "    return bi_to_tri[axis][code]"
   ]
  },
  {
   "cell_type": "markdown",
   "id": "30c61083",
   "metadata": {},
   "source": [
    "## THE WEAVES\n",
    "### Plain"
   ]
  },
  {
   "cell_type": "code",
   "execution_count": 62,
   "id": "7131acec",
   "metadata": {},
   "outputs": [],
   "source": [
    "# simple over-under weave\n",
    "def make_plain_pattern(warp_n = 1, weft_n = 1):\n",
    "    return make_twill_pattern(n = 1, warp_n = warp_n, weft_n = weft_n)"
   ]
  },
  {
   "cell_type": "markdown",
   "id": "1de9d2bf",
   "metadata": {},
   "source": [
    "### Twills"
   ]
  },
  {
   "cell_type": "code",
   "execution_count": 63,
   "id": "b3b405ef",
   "metadata": {},
   "outputs": [],
   "source": [
    "# twill weave with n the number of over-unders\n",
    "# note this is used with n = 1 to make plain weaves\n",
    "def make_twill_pattern(n = 2, warp_n = 2, weft_n = 2):\n",
    "    over_under = n\n",
    "    if type(over_under) == int:\n",
    "        over_under = (over_under, over_under)\n",
    "    tie_up = make_twill_matrix(over_under)\n",
    "    threading = np.diag(np.ones(tie_up.shape[0]))\n",
    "    treadling = np.diag(np.ones(tie_up.shape[1]))\n",
    "    return get_pattern(tie_up, treadling, threading, warp_n, weft_n)\n",
    "\n",
    "\n",
    "# returns a vector of runs of 1s and 0s per the supplied vector.\n",
    "# If the length of n is odd then it is doubled to produce an even\n",
    "# length over-under sequence that repeats. If we don't do this then,\n",
    "# e.g, 1:3 becomes 100111 which repeated is 1001111001111, i.e. a 2-4\n",
    "# over-under pattern. Doubling it makes 100111011000 which has the\n",
    "# requested pattern\n",
    "def make_over_under_row(n):\n",
    "    over_under = n\n",
    "    if type(over_under) == int:\n",
    "        over_under = [n, n]\n",
    "    elif len(n) % 2 != 0:\n",
    "        over_under = n * 2\n",
    "    x = 1\n",
    "    row = []\n",
    "    for y in over_under:\n",
    "        row.extend([x] * y)\n",
    "        x = 1 - x\n",
    "    return row\n",
    "\n",
    "\n",
    "# wraps a vector\n",
    "# by : the number of positions to shift the row\n",
    "# r  : the row\n",
    "def wrap_row(by, r):\n",
    "    return r[-by:] + r[:-by]\n",
    "\n",
    "\n",
    "# makes a matrix like\n",
    "# 1 1 0 0\n",
    "# 0 1 1 0\n",
    "# 0 0 1 1\n",
    "# 1 0 0 1\n",
    "# where the repeat runs in each row are length n\n",
    "def make_twill_matrix(over_under):\n",
    "    row = make_over_under_row(over_under)\n",
    "    d = len(row)\n",
    "    out = []\n",
    "    for i in range(d):\n",
    "        row = wrap_row(1, row)\n",
    "        out.extend(row)\n",
    "    return np.array(out).reshape(d, d)"
   ]
  },
  {
   "cell_type": "markdown",
   "id": "c9dedbee",
   "metadata": {},
   "source": [
    "### Basket weave"
   ]
  },
  {
   "cell_type": "code",
   "execution_count": 64,
   "id": "530388e4",
   "metadata": {},
   "outputs": [],
   "source": [
    "def make_basket_pattern(n = 2, warp_n = 2, weft_n = 2):\n",
    "    tie_up = make_basket_matrix(n)\n",
    "    threading = np.diag(np.ones(tie_up.shape[0]))\n",
    "    treadling = np.diag(np.ones(tie_up.shape[1]))\n",
    "    return get_pattern(tie_up, treadling, threading, warp_n, weft_n)\n",
    "\n",
    "\n",
    "# makes a matrix like\n",
    "# 1 1 0 0\n",
    "# 1 1 0 0\n",
    "# 0 0 1 1\n",
    "# 0 0 1 1\n",
    "# where the repeat runs in each row are length n\n",
    "def make_basket_matrix(n):\n",
    "    return np.array((([1] * n + [0] * n) * n) + \n",
    "                    (([0] * n + [1] * n) * n)).reshape(n * 2, n * 2)"
   ]
  },
  {
   "cell_type": "markdown",
   "id": "e1488622",
   "metadata": {},
   "source": [
    "### Other stuff"
   ]
  },
  {
   "cell_type": "code",
   "execution_count": 65,
   "id": "95d51b00",
   "metadata": {},
   "outputs": [],
   "source": [
    "# This is just a pass through function. Could try to enforce\n",
    "#   ncol(treadling) == nrow(tie_up) and ncol(tie_up) == nrow(threading)\n",
    "# but unsure what would be an appropriate way to do this...\n",
    "def make_this_pattern(tie_up, threading, treadling, warp_n = 2, weft_n = 2):\n",
    "    threading = np.diag(ones(tie_up.shape[0]))\n",
    "    treadling = np.diag(ones(tie_up.shape[1]))\n",
    "    return get_pattern(tie_up, treadling, threading, warp_n, weft_n)"
   ]
  },
  {
   "cell_type": "code",
   "execution_count": 102,
   "id": "a093cbfc",
   "metadata": {},
   "outputs": [],
   "source": [
    "# returns a matrix giving where 1 indicates warp on top, 2\n",
    "# indicates weft on top\n",
    "# types:\n",
    "# \"plain\"    : over 1 under 1 in both directions\n",
    "# \"twill\"    : over n under n each weft thread, shifting\n",
    "#              one along between rows\n",
    "# n          : the over-under for twill patterns\n",
    "# warp, weft : a vector of distinct values (ints or chars) where each\n",
    "#              indicates a different thread colour; repeats are allowed,\n",
    "#              and \"-\" indicates that a thread should be skipped\n",
    "def get_weave_pattern_matrix(*,\n",
    "        weave_type = \"plain\", n = 2, warp = list(\"ab\"), weft = list(\"cd\"),\n",
    "        tie_up = make_twill_matrix((2, 2)), tr = np.diag(np.ones(2)), th = np.diag(np.ones(2))):\n",
    "    \n",
    "    warps = [-1 if c == \"-\" else i for i, c in enumerate(warp)]\n",
    "    wefts = [-1 if c == \"-\" else i for i, c in enumerate(weft)]\n",
    "    width = len(warp)\n",
    "    height = len(weft)\n",
    "    \n",
    "    if weave_type == \"plain\":\n",
    "        p = make_plain_pattern()\n",
    "    elif weave_type == \"twill\":\n",
    "        p = make_twill_pattern(n = n, warp_n = width, weft_n = height)\n",
    "    elif weave_type == \"basket\":\n",
    "        p = make_basket_pattern(n = n, warp_n = width, weft_n = height)\n",
    "    else:\n",
    "        p = make_this_pattern(tie_up = tie_up, th = th, tr = tr,\n",
    "                               warp_n = width, weft_n = height)\n",
    "        \n",
    "    warp_threads = np.repeat(warps, np.prod(p.shape) / len(warps)).reshape(p.shape)\n",
    "    weft_threads = np.repeat(wefts, np.prod(p.shape) / len(wefts)).reshape(p.shape).transpose()\n",
    "    # encode to reflect missing threadsry\n",
    "    return encode_biaxial_weave(p, warp_threads, weft_threads)\n"
   ]
  },
  {
   "cell_type": "markdown",
   "id": "5acd0184",
   "metadata": {},
   "source": [
    "## EXTERNAL API"
   ]
  },
  {
   "cell_type": "code",
   "execution_count": 115,
   "id": "4c632c71",
   "metadata": {},
   "outputs": [],
   "source": [
    "def get_biaxial_weave_unit(*, spacing = 10_000, aspect = 1, margin = 0,\n",
    "        weave_type = \"twill\", n = (2, 2), strands = \"ab|cd\", crs = 3857,\n",
    "        tie_up = make_twill_matrix((2, 2)), tr = np.diag(np.ones(2)), th = np.diag(np.ones(2))):\n",
    "    strand_ids = get_strand_ids(strands)\n",
    "    warp_threads = strand_ids[0]\n",
    "    weft_threads = strand_ids[1]\n",
    "    \n",
    "    if weave_type == \"basket\":\n",
    "        n = n[0]\n",
    "    \n",
    "    treadling = np.diag(np.ones(tie_up.shape[0]))\n",
    "    threading = np.diag(np.ones(tie_up.shape[1]))\n",
    "    \n",
    "    return get_weave_pattern_matrix(weave_type = weave_type, n = n, \n",
    "                    warp = warp_threads, weft = weft_threads, \n",
    "                    tie_up = tie_up, tr = tr, th = th)"
   ]
  },
  {
   "cell_type": "raw",
   "id": "d97b5f98",
   "metadata": {},
   "source": [
    "  get_weave_pattern_matrix(type = type, n = n,\n",
    "                           warp_threads, weft_threads,\n",
    "                           tie_up = tie_up, tr = tr, th = th) %>%\n",
    "    matrices_as_loom() %>%\n",
    "    make_sf_from_coded_weave_matrix(spacing = spacing, width = aspect,\n",
    "                                    margin = margin,\n",
    "                                    axis1_threads = weft_threads,\n",
    "                                    axis2_threads = warp_threads, crs = crs)\n"
   ]
  },
  {
   "cell_type": "code",
   "execution_count": 116,
   "id": "8227c6dc",
   "metadata": {},
   "outputs": [
    {
     "data": {
      "text/plain": [
       "array([[4, 5, 5, 4],\n",
       "       [4, 4, 5, 5],\n",
       "       [5, 4, 4, 5],\n",
       "       [5, 5, 4, 4]])"
      ]
     },
     "execution_count": 116,
     "metadata": {},
     "output_type": "execute_result"
    }
   ],
   "source": [
    "get_biaxial_weave_unit()"
   ]
  },
  {
   "cell_type": "code",
   "execution_count": null,
   "id": "3c29856d",
   "metadata": {},
   "outputs": [],
   "source": []
  }
 ],
 "metadata": {
  "kernelspec": {
   "display_name": "Python 3 (ipykernel)",
   "language": "python",
   "name": "python3"
  },
  "language_info": {
   "codemirror_mode": {
    "name": "ipython",
    "version": 3
   },
   "file_extension": ".py",
   "mimetype": "text/x-python",
   "name": "python",
   "nbconvert_exporter": "python",
   "pygments_lexer": "ipython3",
   "version": "3.10.4"
  }
 },
 "nbformat": 4,
 "nbformat_minor": 5
}

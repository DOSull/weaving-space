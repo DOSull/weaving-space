{
 "cells": [
  {
   "cell_type": "markdown",
   "metadata": {},
   "source": [
    "# Notes on tiling\n",
    "April 2022\n",
    "\n",
    "This notebook tries to draw together various threads (excuse the pun) as we expand out from making woven maps to the broader category of tiling.\n",
    "\n",
    "The first thing to say is that tiling is an impossibly vast terrain, unless we restrict attention to specific classes to tiling. A constant theme, throughout Grünbaum and Shephard (1987, hereinafter GS87) is that there are just too many possibilities to make sense of unless we restrict the focus. One strategy they adopt for this is to define various tiling properties and then examine the possibilities of tilings that have those properties.\n",
    "\n",
    "Among the properties they are quick to emphasise is that every tile shape should be a topological disc (i.e. topologically equivalent to a circle, without holes, and not disjoint with itself). This is *not* a property we necessarily care about, but it is convenient to go along with GS87 and worry about that possibility later. [I suspect our interest in it is more that coincidentally because we consider local tiles at several locations to be part of the 'same' tile we will be making some tilings that mathematically break this restriction.]\n",
    "\n",
    "GS87 is pretty full-on. Kaplan (2009) provides a more tractable introduction, emphasizing the isohedral tilings (I'll get to that)."
   ]
  },
  {
   "cell_type": "markdown",
   "metadata": {},
   "source": []
  },
  {
   "cell_type": "markdown",
   "metadata": {},
   "source": [
    "## Properties of tilings\n",
    "### Some definitions\n",
    "A mathematical *tiling* turns out to be a GIS coverage! Thus: \n",
    "\n",
    "> \"A *plane tiling* is a countable family of closed sets $\\mathcal{T}=\\{T_1,T_2,\\ldots\\}$ which covers the plane without gaps or overlaps. More explicitly, the union of the sets $T_1,T_2,\\ldots$ (which are known as the *tiles* of $\\mathcal{T}$) is to be the whole plane, and the interiors of the sets $T_i$ are to be pairwise disjoint\" (GS87 p16)\n",
    "\n",
    "GS87 are careful to distinguish *vertices* and *edges* of a tiling $\\mathcal{T}$ from the *corners* and *sides* of the tiles $T_i$ that form the tiling. Tilings in which every edge of the tiling is also a side of a tile are referred to as *edge-to-edge* which becomes and important constraint in some situations. The tiling below left is not edge-to-edge, but is topologically equivalent to the regular tiling by hexagons. Note that a lot of the 'tilings' we produce by 'weaving' break this restriction!\n",
    "\n",
    "<img src=\"../sketches/parquet-hex.png\" width=50%>\n"
   ]
  },
  {
   "cell_type": "markdown",
   "metadata": {},
   "source": [
    "\n",
    "At each tiling vertex, the number of tiling edges that meet is the *valence* of the vertex. GS87 are interested to explore tiling properties contingent on their vertex valences. BY definition two tiles meet at each tiling edge, and the number of tiles that meet at each vertex is also given by the valence.\n",
    "\n",
    "In tilings composed of regular polygons, each vertex can be described by the number of sides of the *n*-gons coincident at it. For example the vertices of the tiling by squares are all $(4\\cdot4\\cdot4\\cdot4)$ or equivalently $(4^4)$. This is termed the *species* of the vertex (GS87, p59). Tilings by regular polygons can be designated by listing the vertex species they include. So the regular hexagonal tiling is $(6^3)$.\n",
    "\n",
    "Given these definitions, we can think about a number of possible tiling properties.\n",
    "\n",
    "### Tile shape\n",
    "A $k$-hedral tiling is formed from $k$ distinct shapes of tile (including under reflection and rotation). So, for example the arrowhead and parallelogram tilings below are monohedral.\n",
    "\n",
    "!<img src=\"../sketches/arrows-parallelograms.png\" width=50%>\n",
    "\n",
    "In general, it seems like we might want tilings that are $k$-hedral where $k>1$, to allow tiles to be distinguished from one another. Likely what we want is more subtle than that. After all, the arrows in the above tiling are readily distinguished from one another and could be symbolised separately with the little chance of confusion.\n",
    "\n",
    "In any case this brings us to..."
   ]
  },
  {
   "cell_type": "markdown",
   "metadata": {},
   "source": [
    "### Symmetry\n",
    "Both tiles and tilings may have symmetries, but they are defined slightly differently. \n",
    "\n",
    "### The symmetry groups of a tile\n",
    "A symmetry of a tile $T_i$ is any transformation $S$ of the Euclidean plane that preserves the shape and size of the tile. Technically such transformations are referred to as *isometries*.  Five isometries are possible:\n",
    "\n",
    "+ The identity (trivially);\n",
    "+ Reflections in lines;\n",
    "+ Rotations at some specified angle around a point;\n",
    "+ Translations by some specified vector; and\n",
    "+ Glide reflections (reflection in a line followed by a translation parallel to the line).\n",
    "\n",
    "The symmetry group of a tile $G(T)$ is the set of isometries that preserve its shape, that is $G(T)=\\{S\\in G:S(T)=T\\}$. These fall into three groups:\n",
    "\n",
    "* Those that contain no translations, but consist only of reflections and/or rotations. These will be either: $c_n$ or, the $n$-fold cyclic symmetry group of rotations by $2\\pi k/n$ for $k\\in\\{1\\ldots n\\}$; or$d_n$ the *dihedral* group or order $n$ which includes $c_n$ and $n$ reflections in $n$ equally spaced lines that pass through the centre of rotation of $c_n$.\n",
    "* Those that contain translations along only one direction. These give rise to 7 *frieze* groups.\n",
    "* Those that contain translations in more than one direction and give rise to the 17 *wallpaper* groups.\n",
    "\n",
    "The wallpaper groups are fundamental to tiling and are also referred to as *periodic*. Any pair of the translations in the group can be used to tile the plane with a pattern.\n",
    "\n",
    "#### The symmetry groups of a tiling\n",
    "The symmetry group of a tiling $G(\\mathcal{T})$ is the set of symmetries under which any tile $T_i$ is mapped onto some other tile $T_j$. That is, a symmetry of a tiling is some isometry that permutes its tiles. In general, the symmetries of a tiling are not the same as the symmetries of its constituent tiles, but must contain some of them, i.e. $G(\\mathcal{T})\\subseteq G(T_i) \\forall T_i\\in\\mathcal{T}$. [I haven't seen this spelled out in GS87 or elsewhere, but think it follows from the definitions.]\n",
    "\n",
    "### Isohedral tilings and transitivity groups\n",
    "The symmetries of a tiling will map various tiles on to other tiles. The number of sets of tiles related to one another in this way gives rise to the concept of *transitivity groups* of tiles. These are the distinct sets of tiles that are mapped onto one another by the symmetries of the tiling. An *isohedral* tiling is one with only one transitivity group. A nice way to think of it is that the tiles in an isohedral tiling are locally indistinguishable from one another: the tiling looks the same from the perspective of any tile. An isohedral tiling is necessarily monohedral. \n",
    "\n",
    "The concept extends naturally to $k$-isohedrality. It is important to realise that a tiling may be monohedral or $m$-hedral with $m=1$ and $k$-isohedral with $m\\neq k$ and in fact that $m\\leq k$. The simple example noted in GS87 and elsewhere (see also Kaplan 2009, p36) is shown below.\n",
    "\n",
    "<img src=\"../sketches/basket-tiles.png\" width=50%>\n",
    "\n",
    "The darker coloured tiles cannot be mapped onto the paler set by any isometry hence the tiling is monohedral and $2$-isohedral.\n",
    "\n",
    "Again, it seems like it might be important for cartographic purposes that tilings be $k$-isohedral with $k>1$ to allow tiles to be distinguished from one another. However this is by no means clear. For example the tiling below has 4 distinguishable tiles but is isohedral.\n",
    "\n",
    "<img src=\"../sketches/45-degree-triangles.png\" width=50%>\n",
    "\n",
    "### Isogonality and isotoxality\n",
    "Isogonality takes the notion of the transitivity groups of a tilings tiles and applies it instead to the vertices. So an isogonal tiling has some symmetry that maps every vertex to every other, while a $k$-isogonal tiling has $k$ distinct sets of vertices under the transformations of its symmetries.\n",
    "\n",
    "Isotoxality takes the notion and applies it to the tiling's edges.\n",
    "\n",
    "Neither of these notions seems likely to be as significant for our purposes and the isohedrality of a tiling."
   ]
  },
  {
   "cell_type": "markdown",
   "metadata": {},
   "source": [
    "## Thoughts\n",
    "It's not at all clear what the import of any of the above might be for choosing or designing tilings suitable for multivariate mapping.\n",
    "\n",
    "Because directionality or orientation is not a property of tilings *per se* given that tiles are considered identical subject to rotation, but is *probably* an important consideration from a cartographic symbolisation perspective, it is hard to say anything definitive. Many monohedral, isohedral tilings exist that allow for directionally distinguishable tiles given that we will impose a tiling at some chosen orientation.\n",
    "\n",
    "The notion of periodicity in tilings, i.e., that they should have at least two linearly independent (not orthogonal) translational symmetry vectors. There are tilings that have no such symmetry (spiral tilings, for example) which probably hold no interest for our purposes. With respect to the implementation of the woven patterns and the current application of some elements of that code base to tiling, periodicity is central, because 'rolling out' a weave unit or tile unit across a map is entirely based on generating a grid of translation vectors (whether the grid is rectangular or hexagonal or 'rhombical'). It's hard to imagine this not being a feature of any implementation."
   ]
  },
  {
   "cell_type": "markdown",
   "metadata": {},
   "source": [
    "## The Archimedean tilings\n",
    "The Archimedian tilings are the 11 possible tilings by regular polygons. Given that they are formed form regular polygons with numbers of sides $n_1,n_2,\\ldots$ the vertex species in each must satisfy the requirement \n",
    "\n",
    "$$\\frac{n_1-2}{n_1}+\\frac{n_2-2}{n_2}+\\cdots=2$$\n",
    "\n",
    "17 combinations of integer values of $n$ match this constraint, but only 11 yield tileable configurations\n",
    "\n",
    "<img src=\"../sketches/archimedean-tilings.png\" width=50%>\n",
    "(from Kaplan 2009, p31)\n",
    "\n",
    "Three of these are the regular tilings whose *flags*&mdash;or vertex-edge-tile triples&mdash;are transitive under its symmetries. The remaining 8 are semi-regular. All 11 are isohedral and isogonal. Which of these are most suitable for mapping is open to conjecture. The three regular tilings (discussed below) likely required a bit more work. The others, with more than one polygon may be more immediately applicable. Even so, the two containing dodecagons, given how much larger these are than the other polygons, may have only limited use."
   ]
  },
  {
   "cell_type": "markdown",
   "metadata": {},
   "source": [
    "## The three regular tilings and their possibilities\n",
    "It seems limiting to focus too closely on the simplest of tilings&mdash;squares, hexagons and triangles&mdash;but even here there's plenty to think about. Assuming that our end goal is locally readable maps where it is possible to distinguish among several symbolisations of attribute values at each location, we have to somehow 'dissect' the polygons in the regular tilings into distinguishable 'subtiles'.\n",
    "\n",
    "The square and triangle admit of such dissections into identical square or triangular subtiles. Assuming the insertion of suitable 'insets' or margins around each 'major' tile, it should be possible to symbolise reasonable numbers of attributes in distinguishable ways.\n",
    "\n",
    "Hexagonal tiles are a bit trickier, but some careful thought shows that readable subtiles with 3, 7, 19, 37 and higher numbers are possible (and anything much above 7 seems unlikely anyway!) The 7 subtiles is identical to the subtiles used in Uber's H3 indexing scheme, while 19 subtiles could be formed in the same way but with a 3-4-5-4-3 hexagon of subtiles. Introducing a 'margin' around each grouping would enable the individual subtiles to be identified.\n",
    "\n",
    "<img src=\"../sketches/hex-subtiles.png\" width=50%>\n"
   ]
  },
  {
   "cell_type": "markdown",
   "metadata": {},
   "source": [
    "## References\n",
    "+ Grünbaum B, Shephard GS, 1987 *Tilings and Patterns* (W. H. Freeman and Company, New York)\n",
    "+ Kaplan CS, 2009 *Introductory tiling theory for computer graphics* (Morgan & Claypool, S.l.)\n"
   ]
  }
 ],
 "metadata": {
  "interpreter": {
   "hash": "8ebe6d27dded17195585df01103ddf0ba29fa9b848e192691d9412070e1dba2e"
  },
  "kernelspec": {
   "display_name": "Python 3.10.4 ('weaving')",
   "language": "python",
   "name": "python3"
  },
  "language_info": {
   "name": "python",
   "version": "3.10.4"
  },
  "orig_nbformat": 4
 },
 "nbformat": 4,
 "nbformat_minor": 2
}

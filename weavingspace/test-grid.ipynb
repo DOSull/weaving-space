{
 "cells": [
  {
   "cell_type": "code",
   "execution_count": null,
   "metadata": {},
   "outputs": [],
   "source": [
    "%matplotlib inline\n",
    "\n",
    "from matplotlib import pyplot\n",
    "import geopandas\n",
    "import numpy as np\n",
    "\n",
    "from tile_units import TileUnit\n",
    "from tile_map import TileGrid, Tiling"
   ]
  },
  {
   "cell_type": "code",
   "execution_count": null,
   "metadata": {},
   "outputs": [],
   "source": [
    "ak = geopandas.read_file(\"../data/imd-auckland-2018.gpkg\")"
   ]
  },
  {
   "cell_type": "code",
   "execution_count": null,
   "metadata": {},
   "outputs": [],
   "source": [
    "tile_unit = TileUnit(shape = \"triangle\", to_hex = False, \n",
    "                     spacing = 100, crs = ak.crs)\n",
    "ax = tile_unit.elements.plot(column = \"element_id\", edgecolor = \"w\", alpha = .7)\n",
    "tile_unit.tile.plot(ax = ax, facecolor = \"#00000000\", edgecolor = \"r\")"
   ]
  },
  {
   "cell_type": "code",
   "execution_count": null,
   "metadata": {},
   "outputs": [],
   "source": [
    "tiling = Tiling(tile_unit, ak)"
   ]
  },
  {
   "cell_type": "code",
   "execution_count": null,
   "metadata": {},
   "outputs": [],
   "source": [
    "tiling = ak.overlay(tiling.rotated(22.5))"
   ]
  },
  {
   "cell_type": "code",
   "execution_count": null,
   "metadata": {},
   "outputs": [],
   "source": [
    "fig = pyplot.figure(figsize = (24, 15))\n",
    "ax = fig.add_subplot(111)\n",
    "ak.plot(ax = ax, facecolor = \"grey\", linewidth = 0)\n",
    "\n",
    "strands = set(tiling.element_id)\n",
    "cols = [x for x in tiling.columns if \"Rank\" in x]\n",
    "cmaps = (\"YlOrRd\", \"BuGn\", \"YlGnBu\", \"RdPu\")\n",
    "\n",
    "for strand, col, cmap in zip(strands, cols, cmaps):\n",
    "    tiling[tiling.element_id == strand].plot(ax = ax, column = col, \n",
    "                                             cmap = cmap, linewidth = 0)\n"
   ]
  },
  {
   "cell_type": "code",
   "execution_count": null,
   "metadata": {},
   "outputs": [],
   "source": []
  }
 ],
 "metadata": {
  "interpreter": {
   "hash": "8ebe6d27dded17195585df01103ddf0ba29fa9b848e192691d9412070e1dba2e"
  },
  "kernelspec": {
   "display_name": "Python 3.10.4 ('weaving')",
   "language": "python",
   "name": "python3"
  },
  "language_info": {
   "codemirror_mode": {
    "name": "ipython",
    "version": 3
   },
   "file_extension": ".py",
   "mimetype": "text/x-python",
   "name": "python",
   "nbconvert_exporter": "python",
   "pygments_lexer": "ipython3",
   "version": "3.10.4"
  },
  "orig_nbformat": 4
 },
 "nbformat": 4,
 "nbformat_minor": 2
}

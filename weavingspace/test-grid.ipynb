{
 "cells": [
  {
   "cell_type": "code",
   "execution_count": null,
   "metadata": {},
   "outputs": [],
   "source": [
    "%matplotlib inline\n",
    "from matplotlib import pyplot\n",
    "import geopandas\n",
    "from shapely.geometry import Polygon\n",
    "from shapely.affinity import scale\n",
    "from shapely.affinity import translate\n",
    "import numpy as np\n",
    "\n",
    "%run -i weave_map.py"
   ]
  },
  {
   "cell_type": "code",
   "execution_count": null,
   "metadata": {},
   "outputs": [],
   "source": [
    "ak = geopandas.read_file(\"../data/imd-auckland-2018.gpkg\")\n",
    "w = WeaveUnit(weave_type = \"cube\", spacing = 100)"
   ]
  },
  {
   "cell_type": "code",
   "execution_count": null,
   "metadata": {},
   "outputs": [],
   "source": [
    "\n",
    "g = TileGrid(w.tile, ak.geometry, True)"
   ]
  },
  {
   "cell_type": "code",
   "execution_count": null,
   "metadata": {},
   "outputs": [],
   "source": [
    "ax = ak.plot(facecolor = \"lightgrey\", figsize = (15, 15))\n",
    "xy = geopandas.GeoSeries([Point(p) for p in g._get_tri_centres()])\n",
    "xy.plot(ax = ax)"
   ]
  },
  {
   "cell_type": "code",
   "execution_count": null,
   "metadata": {},
   "outputs": [],
   "source": []
  }
 ],
 "metadata": {
  "interpreter": {
   "hash": "8ebe6d27dded17195585df01103ddf0ba29fa9b848e192691d9412070e1dba2e"
  },
  "kernelspec": {
   "display_name": "Python 3.10.4 ('weaving')",
   "language": "python",
   "name": "python3"
  },
  "language_info": {
   "codemirror_mode": {
    "name": "ipython",
    "version": 3
   },
   "file_extension": ".py",
   "mimetype": "text/x-python",
   "name": "python",
   "nbconvert_exporter": "python",
   "pygments_lexer": "ipython3",
   "version": "3.10.4"
  },
  "orig_nbformat": 4
 },
 "nbformat": 4,
 "nbformat_minor": 2
}

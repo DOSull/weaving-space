{
 "cells": [
  {
   "cell_type": "code",
   "execution_count": null,
   "metadata": {},
   "outputs": [],
   "source": [
    "%matplotlib inline\n",
    "\n",
    "from matplotlib import pyplot\n",
    "import geopandas\n",
    "import numpy as np\n",
    "\n",
    "from shapely.affinity import translate\n",
    "\n",
    "from weave_units import WeaveUnit\n",
    "from tile_map import TileGrid"
   ]
  },
  {
   "cell_type": "code",
   "execution_count": null,
   "metadata": {},
   "outputs": [],
   "source": [
    "ak = geopandas.read_file(\"../data/imd-auckland-2018.gpkg\")"
   ]
  },
  {
   "cell_type": "markdown",
   "metadata": {},
   "source": [
    "## Terrible hack incoming\n",
    "This is all a horrible hack to test the triangular grid generation of `TileGrid` in the absence of a `TileUnit` class. \n",
    "\n",
    "Make a triangular `TileGrid` (not something that will be called for by woven maps, since all tiles in those are squares or hesagons)."
   ]
  },
  {
   "cell_type": "code",
   "execution_count": null,
   "metadata": {},
   "outputs": [],
   "source": [
    "w = WeaveUnit(weave_type = \"cube\", spacing = 500)"
   ]
  },
  {
   "cell_type": "code",
   "execution_count": null,
   "metadata": {},
   "outputs": [],
   "source": [
    "w.tile.geometry[0]"
   ]
  },
  {
   "cell_type": "code",
   "execution_count": null,
   "metadata": {},
   "outputs": [],
   "source": [
    "g = TileGrid(w.tile.geometry, ak.geometry, \"triangle\", to_hex = False)"
   ]
  },
  {
   "cell_type": "markdown",
   "metadata": {},
   "source": [
    "Next make up a set of triangles usings `weave_grids._WeaveGrid` to make a triangle (not spacing is 6 times the spacing that a hexagonal weave unit will have because those units are 6 triangular cells high)."
   ]
  },
  {
   "cell_type": "code",
   "execution_count": null,
   "metadata": {},
   "outputs": [],
   "source": [
    "xys = g.points\n",
    "\n",
    "tris = [translate(g.tile[0], p.x, p.y) for p in xys]\n",
    "\n",
    "gs = geopandas.GeoSeries(tris)\n",
    "gdf = geopandas.GeoDataFrame(geometry = gs)\n",
    "gdf.plot(edgecolor = \"w\", alpha = 0.5, figsize = (15, 15))"
   ]
  },
  {
   "cell_type": "code",
   "execution_count": null,
   "metadata": {},
   "outputs": [],
   "source": [
    "gdf.geometry[0]"
   ]
  },
  {
   "cell_type": "code",
   "execution_count": null,
   "metadata": {},
   "outputs": [],
   "source": []
  }
 ],
 "metadata": {
  "interpreter": {
   "hash": "8ebe6d27dded17195585df01103ddf0ba29fa9b848e192691d9412070e1dba2e"
  },
  "kernelspec": {
   "display_name": "Python 3.10.4 ('weaving')",
   "language": "python",
   "name": "python3"
  },
  "language_info": {
   "codemirror_mode": {
    "name": "ipython",
    "version": 3
   },
   "file_extension": ".py",
   "mimetype": "text/x-python",
   "name": "python",
   "nbconvert_exporter": "python",
   "pygments_lexer": "ipython3",
   "version": "3.10.4"
  },
  "orig_nbformat": 4
 },
 "nbformat": 4,
 "nbformat_minor": 2
}

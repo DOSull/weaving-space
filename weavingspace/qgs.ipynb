{
 "cells": [
  {
   "cell_type": "code",
   "execution_count": 4,
   "metadata": {},
   "outputs": [],
   "source": [
    "from qgis.core import QgsGeometry\n",
    "from qgis.core import QgsPointXY\n",
    "from qgis.core import QgsWkbTypes\n",
    "from qgis.core import Qgis"
   ]
  },
  {
   "cell_type": "code",
   "execution_count": 39,
   "metadata": {},
   "outputs": [],
   "source": [
    "g = QgsGeometry.fromPolygonXY([[QgsPointXY(0, 0), QgsPointXY(1, 0),\n",
    "                                QgsPointXY(1, 1), QgsPointXY(0, 1)]]) "
   ]
  },
  {
   "cell_type": "code",
   "execution_count": 40,
   "metadata": {},
   "outputs": [
    {
     "data": {
      "text/plain": [
       "<QgsGeometry: Polygon ((0 0, 0.86602540378443871 -0.49999999999999994, 1.3660254037844386 0.36602540378443876, 0.49999999999999994 0.86602540378443871, 0 0))>"
      ]
     },
     "execution_count": 40,
     "metadata": {},
     "output_type": "execute_result"
    }
   ],
   "source": [
    "g.rotate(30, QgsPointXY(0, 0))\n",
    "g"
   ]
  },
  {
   "cell_type": "code",
   "execution_count": 41,
   "metadata": {},
   "outputs": [
    {
     "data": {
      "text/plain": [
       "<QgsGeometry: Polygon ((1 0, 1.86602540378443882 -0.49999999999999994, 2.36602540378443837 0.36602540378443876, 1.5 0.86602540378443871, 1 0))>"
      ]
     },
     "execution_count": 41,
     "metadata": {},
     "output_type": "execute_result"
    }
   ],
   "source": [
    "g.translate(1, 0)\n",
    "g"
   ]
  },
  {
   "cell_type": "code",
   "execution_count": 42,
   "metadata": {},
   "outputs": [
    {
     "data": {
      "text/plain": [
       "<QgsPolygon: Polygon ((1 0, 1.86602540378443882 -0.49999999999999994, 2.36602540378443837 0.36602540378443876, 1.5 0.86602540378443871, 1 0))>"
      ]
     },
     "execution_count": 42,
     "metadata": {},
     "output_type": "execute_result"
    }
   ],
   "source": [
    "g.get()"
   ]
  },
  {
   "cell_type": "code",
   "execution_count": 46,
   "metadata": {},
   "outputs": [
    {
     "data": {
      "text/plain": [
       "0.9999999999999997"
      ]
     },
     "execution_count": 46,
     "metadata": {},
     "output_type": "execute_result"
    }
   ],
   "source": [
    "g.area()"
   ]
  },
  {
   "cell_type": "code",
   "execution_count": null,
   "metadata": {},
   "outputs": [],
   "source": []
  }
 ],
 "metadata": {
  "interpreter": {
   "hash": "7e8f7b82446e265ee155fd91facc7db3ea2c23608811dac2c03a6652e637e456"
  },
  "kernelspec": {
   "display_name": "Python 3.9.6 ('qgis')",
   "language": "python",
   "name": "python3"
  },
  "language_info": {
   "codemirror_mode": {
    "name": "ipython",
    "version": 3
   },
   "file_extension": ".py",
   "mimetype": "text/x-python",
   "name": "python",
   "nbconvert_exporter": "python",
   "pygments_lexer": "ipython3",
   "version": "3.9.6"
  },
  "orig_nbformat": 4
 },
 "nbformat": 4,
 "nbformat_minor": 2
}

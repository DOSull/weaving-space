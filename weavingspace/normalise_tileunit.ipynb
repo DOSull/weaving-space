{
 "cells": [
  {
   "cell_type": "code",
   "execution_count": 1,
   "metadata": {},
   "outputs": [],
   "source": [
    "%matplotlib inline\n",
    "\n",
    "import matplotlib.pyplot as pyplot\n",
    "import geopandas as gpd\n",
    "import pandas as pd\n",
    "import numpy as np\n",
    "import copy\n",
    "\n",
    "import shapely.geometry as geom\n",
    "import shapely.affinity as affine\n",
    "import shapely.wkt as wkt\n",
    "\n",
    "from weave_units import WeaveUnit\n",
    "from tile_units import TileUnit\n",
    "from tile_map import Tiling"
   ]
  },
  {
   "cell_type": "markdown",
   "metadata": {},
   "source": [
    "## Normalising tile units\n",
    "Have to ensure TileUnits consist only of whole elements\n",
    "\n",
    "### `unit1`"
   ]
  },
  {
   "cell_type": "code",
   "execution_count": 2,
   "metadata": {},
   "outputs": [
    {
     "data": {
      "text/plain": [
       "<AxesSubplot:>"
      ]
     },
     "execution_count": 2,
     "metadata": {},
     "output_type": "execute_result"
    },
    {
     "data": {
      "image/png": "[encoded data removed]",
      "text/plain": [
       "<Figure size 576x576 with 1 Axes>"
      ]
     },
     "metadata": {
      "needs_background": "light"
     },
     "output_type": "display_data"
    }
   ],
   "source": [
    "d = 300\n",
    "unit1 = TileUnit(spacing = d, crs = 2193)\n",
    "\n",
    "R = d / 2 / np.cos(np.pi / 8)\n",
    "angles = [np.pi / 8 + a * np.pi / 4 for a in range(8)]\n",
    "\n",
    "octagon = geom.Polygon([(R * np.cos(a), R * np.sin(a)) for a in angles])\n",
    "square_fragments = (\n",
    "    unit1.tile.geometry.difference(\n",
    "        octagon).explode(index_parts = False, ignore_index = True))\n",
    "\n",
    "fragments = gpd.GeoSeries([octagon] + list(square_fragments))\n",
    "fragments = fragments.buffer(-1e-6).buffer(1e-6).apply(\n",
    "    wkt.dumps, rounding_precision = 6).apply(wkt.loads)\n",
    "fragments = gpd.GeoSeries([f.simplify(1e-6) for f in list(fragments)])\n",
    "fragments_gdf = gpd.GeoDataFrame(\n",
    "    data = {\"element_id\" : list(\"abbbb\")}, crs = 3857,\n",
    "    geometry = fragments\n",
    ")\n",
    "unit1.elements = fragments_gdf\n",
    "ax = unit1.elements.plot(column = \"element_id\", figsize = (8, 8))\n",
    "unit1.tile.plot(ax = ax, edgecolor = \"k\", facecolor = \"#00000000\")"
   ]
  },
  {
   "cell_type": "markdown",
   "metadata": {},
   "source": [
    "### `unit2`"
   ]
  },
  {
   "cell_type": "code",
   "execution_count": 3,
   "metadata": {},
   "outputs": [
    {
     "data": {
      "text/plain": [
       "<AxesSubplot:>"
      ]
     },
     "execution_count": 3,
     "metadata": {},
     "output_type": "execute_result"
    },
    {
     "data": {
      "image/png": "[encoded data removed]",
      "text/plain": [
       "<Figure size 576x576 with 1 Axes>"
      ]
     },
     "metadata": {
      "needs_background": "light"
     },
     "output_type": "display_data"
    }
   ],
   "source": [
    "unit2 = WeaveUnit(strands = \"abc|defg\", crs = 2193, aspect = 0.8, \n",
    "                  spacing = 1000, weave_type = \"twill\")\n",
    "unit2.elements = unit2.elements.explode(\n",
    "    index_parts = False, ignore_index = True)\n",
    "\n",
    "ax = unit2.elements.plot(column = \"element_id\", figsize = (8, 8))\n",
    "unit2.tile.plot(ax = ax, edgecolor = \"k\", facecolor = \"#00000000\")"
   ]
  },
  {
   "cell_type": "markdown",
   "metadata": {},
   "source": [
    "### `unit3`"
   ]
  },
  {
   "cell_type": "code",
   "execution_count": null,
   "metadata": {},
   "outputs": [],
   "source": [
    "unit3 = WeaveUnit(strands = \"ab|cd\", crs = 2193, aspect = 0.8, spacing = 1000)\n",
    "unit3.elements = unit3.elements.explode(\n",
    "    index_parts = False, ignore_index = True)\n",
    "\n",
    "ax = unit3.elements.plot(column = \"element_id\", figsize = (8, 8))\n",
    "unit3.tile.plot(ax = ax, edgecolor = \"k\", facecolor = \"#00000000\")"
   ]
  },
  {
   "cell_type": "markdown",
   "metadata": {},
   "source": [
    "### Get translation vectors"
   ]
  },
  {
   "cell_type": "code",
   "execution_count": null,
   "metadata": {},
   "outputs": [],
   "source": [
    "def get_translation_vectors(unit):\n",
    "    bb = unit.tile.geometry[0].bounds\n",
    "    w, h = bb[2] - bb[0], bb[3] - bb[1]\n",
    "    return [(dx, dy) \n",
    "            for dx in (-w, 0, w) \n",
    "            for dy in (-h, 0, h)\n",
    "            if (dx == 0 or dy == 0) and dx != dy]\n",
    "    \n",
    "t_vecs1 = get_translation_vectors(unit1)\n",
    "t_vecs2 = get_translation_vectors(unit2)\n",
    "t_vecs3 = get_translation_vectors(unit3)\n",
    "t_vecs2"
   ]
  },
  {
   "cell_type": "code",
   "execution_count": null,
   "metadata": {},
   "outputs": [],
   "source": [
    "def merge_fragments(\n",
    "        fragments:list[geom.Polygon],\n",
    "        vectors:list[tuple],\n",
    "        tile:geom.Polygon) -> list[geom.Polygon]:\n",
    "    if len(fragments) == 1:\n",
    "        return fragments\n",
    "    changes_made = True\n",
    "    while changes_made:\n",
    "        changes_made = False\n",
    "        for v in vectors:\n",
    "            next_frags = []\n",
    "            t_fragments = [affine.translate(f, v[0], v[1]) for f in fragments]\n",
    "            matches = set()\n",
    "            for i, f1 in enumerate(fragments):\n",
    "                for j, f2, in enumerate(t_fragments):\n",
    "                    if i != j and f1.distance(f2) < 1e-3:\n",
    "                        matches.add((i, j))\n",
    "            to_remove = set()\n",
    "            for i, j in matches:\n",
    "                f1 = fragments[i]\n",
    "                f2 = t_fragments[j]\n",
    "                u1 = f1.union(f2).simplify(1e-6)\n",
    "                u2 = affine.translate(u1, -v[0], -v[1]).simplify(1e-6)\n",
    "                if tile.intersection(u1).area > tile.intersection(u2).area:\n",
    "                    next_frags.append(u1)\n",
    "                else:\n",
    "                    next_frags.append(u2)\n",
    "                changes_made = True\n",
    "                to_remove.add(i)\n",
    "                to_remove.add(j)\n",
    "            fragments = [f for i, f in enumerate(fragments) \n",
    "                         if not (i in to_remove)]\n",
    "            fragments = next_frags + fragments\n",
    "    return fragments"
   ]
  },
  {
   "cell_type": "code",
   "execution_count": null,
   "metadata": {},
   "outputs": [],
   "source": [
    "def normalise_tile_unit(tile_unit, v):\n",
    "    elements = []\n",
    "    element_ids = []\n",
    "    normed_unit = copy.copy(tile_unit)\n",
    "    ids = list(set(tile_unit.elements.element_id))\n",
    "    for id in ids:\n",
    "        fragment_set = list(\n",
    "            tile_unit.elements[\n",
    "                tile_unit.elements.element_id == id].geometry)\n",
    "        merged = merge_fragments(fragment_set, v, tile_unit.tile.geometry[0])\n",
    "        elements.extend(merged)\n",
    "        element_ids.extend([id] * len(merged))\n",
    "    new_elements = gpd.GeoDataFrame(\n",
    "        data = {\"element_id\": element_ids}, crs = tile_unit.crs,\n",
    "        geometry = gpd.GeoSeries(elements)\n",
    "    )\n",
    "    normed_unit.elements = new_elements\n",
    "    return normed_unit\n"
   ]
  },
  {
   "cell_type": "code",
   "execution_count": null,
   "metadata": {},
   "outputs": [],
   "source": [
    "norm_unit = normalise_tile_unit(unit2, t_vecs2)\n",
    "ax = norm_unit.elements.plot(column = \"element_id\")\n",
    "norm_unit.tile.plot(ax = ax, edgecolor = \"k\", facecolor = \"#00000000\")\n",
    "norm_unit.elements"
   ]
  },
  {
   "cell_type": "code",
   "execution_count": null,
   "metadata": {},
   "outputs": [],
   "source": [
    "unit2.elements"
   ]
  },
  {
   "cell_type": "code",
   "execution_count": null,
   "metadata": {},
   "outputs": [],
   "source": []
  }
 ],
 "metadata": {
  "interpreter": {
   "hash": "8ebe6d27dded17195585df01103ddf0ba29fa9b848e192691d9412070e1dba2e"
  },
  "kernelspec": {
   "display_name": "Python 3.10.4 ('weaving')",
   "language": "python",
   "name": "python3"
  },
  "language_info": {
   "codemirror_mode": {
    "name": "ipython",
    "version": 3
   },
   "file_extension": ".py",
   "mimetype": "text/x-python",
   "name": "python",
   "nbconvert_exporter": "python",
   "pygments_lexer": "ipython3",
   "version": "3.10.4"
  },
  "orig_nbformat": 4
 },
 "nbformat": 4,
 "nbformat_minor": 2
}

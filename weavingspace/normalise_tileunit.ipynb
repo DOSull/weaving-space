{
 "cells": [
  {
   "cell_type": "code",
   "execution_count": 237,
   "metadata": {},
   "outputs": [],
   "source": [
    "%matplotlib inline\n",
    "\n",
    "import matplotlib.pyplot as pyplot\n",
    "import geopandas as gpd\n",
    "import pandas as pd\n",
    "import numpy as np\n",
    "import copy\n",
    "\n",
    "import shapely.geometry as geom\n",
    "import shapely.affinity as affine\n",
    "import shapely.wkt as wkt\n",
    "\n",
    "from weave_units import WeaveUnit\n",
    "from tile_units import TileUnit"
   ]
  },
  {
   "cell_type": "markdown",
   "metadata": {},
   "source": [
    "## Normalising tile units\n",
    "Have to ensure TileUnits consist only of whole elements"
   ]
  },
  {
   "cell_type": "code",
   "execution_count": 238,
   "metadata": {},
   "outputs": [],
   "source": [
    "# unit = WeaveUnit(aspect = 5/6, margin = 0.0, strands = \"abc|de\")\n",
    "# unit.elements.plot(column = \"element_id\", figsize = (30, 6))"
   ]
  },
  {
   "cell_type": "code",
   "execution_count": 270,
   "metadata": {},
   "outputs": [],
   "source": [
    "d = 300\n",
    "unit = TileUnit(spacing = d, crs = 3857)\n",
    "\n",
    "R = d / 2 / np.cos(np.pi / 8)\n",
    "angles = [np.pi / 8 + a * np.pi / 4 for a in range(8)]\n",
    "\n",
    "octagon = geom.Polygon([(R * np.cos(a), R * np.sin(a)) for a in angles])\n",
    "square_fragments = (\n",
    "    unit.tile.geometry.difference(\n",
    "        octagon).explode(index_parts = False, ignore_index = True))\n",
    "\n",
    "fragments = gpd.GeoSeries([octagon] + list(square_fragments))\n",
    "fragments = fragments.buffer(-1e-6).buffer(1e-6).apply(\n",
    "    wkt.dumps, rounding_precision = 6).apply(wkt.loads)\n",
    "fragments = gpd.GeoSeries([f.simplify(1e-6) for f in list(fragments)])\n",
    "fragments_gdf = gpd.GeoDataFrame(\n",
    "    data = {\"fragment_id\" : [0, 1, 1, 1, 1],\n",
    "            \"element_id\" : list(\"abbbb\")}, crs = 3857,\n",
    "    geometry = fragments\n",
    ")\n",
    "unit.elements = fragments_gdf"
   ]
  },
  {
   "cell_type": "code",
   "execution_count": 271,
   "metadata": {},
   "outputs": [
    {
     "data": {
      "text/plain": [
       "<AxesSubplot:title={'center':'element_id'}>"
      ]
     },
     "execution_count": 271,
     "metadata": {},
     "output_type": "execute_result"
    },
    {
     "data": {
      "image/png": "[encoded data removed]",
      "text/plain": [
       "<Figure size 720x360 with 2 Axes>"
      ]
     },
     "metadata": {
      "needs_background": "light"
     },
     "output_type": "display_data"
    }
   ],
   "source": [
    "\n",
    "fig = pyplot.figure(figsize = (10, 5))\n",
    "ax = fig.add_subplot(121, title = \"fragment_id\")\n",
    "unit.elements.plot(ax = ax, column = \"fragment_id\")\n",
    "ax = fig.add_subplot(122, title = \"element_id\")\n",
    "unit.elements.plot(ax = ax, column = \"element_id\")\n"
   ]
  },
  {
   "cell_type": "code",
   "execution_count": 272,
   "metadata": {},
   "outputs": [
    {
     "data": {
      "text/html": [
       "<div>\n",
       "<style scoped>\n",
       "    .dataframe tbody tr th:only-of-type {\n",
       "        vertical-align: middle;\n",
       "    }\n",
       "\n",
       "    .dataframe tbody tr th {\n",
       "        vertical-align: top;\n",
       "    }\n",
       "\n",
       "    .dataframe thead th {\n",
       "        text-align: right;\n",
       "    }\n",
       "</style>\n",
       "<table border=\"1\" class=\"dataframe\">\n",
       "  <thead>\n",
       "    <tr style=\"text-align: right;\">\n",
       "      <th></th>\n",
       "      <th>fragment_id</th>\n",
       "      <th>element_id</th>\n",
       "      <th>geometry</th>\n",
       "    </tr>\n",
       "  </thead>\n",
       "  <tbody>\n",
       "    <tr>\n",
       "      <th>0</th>\n",
       "      <td>0</td>\n",
       "      <td>a</td>\n",
       "      <td>POLYGON ((150.000 62.132, 150.000 -62.132, 62....</td>\n",
       "    </tr>\n",
       "    <tr>\n",
       "      <th>1</th>\n",
       "      <td>1</td>\n",
       "      <td>b</td>\n",
       "      <td>POLYGON ((150.000 -150.000, 150.000 -150.000, ...</td>\n",
       "    </tr>\n",
       "    <tr>\n",
       "      <th>2</th>\n",
       "      <td>1</td>\n",
       "      <td>b</td>\n",
       "      <td>POLYGON ((150.000 150.000, 150.000 150.000, 15...</td>\n",
       "    </tr>\n",
       "    <tr>\n",
       "      <th>3</th>\n",
       "      <td>1</td>\n",
       "      <td>b</td>\n",
       "      <td>POLYGON ((-150.000 150.000, -150.000 150.000, ...</td>\n",
       "    </tr>\n",
       "    <tr>\n",
       "      <th>4</th>\n",
       "      <td>1</td>\n",
       "      <td>b</td>\n",
       "      <td>POLYGON ((-150.000 -150.000, -150.000 -150.000...</td>\n",
       "    </tr>\n",
       "  </tbody>\n",
       "</table>\n",
       "</div>"
      ],
      "text/plain": [
       "   fragment_id element_id                                           geometry\n",
       "0            0          a  POLYGON ((150.000 62.132, 150.000 -62.132, 62....\n",
       "1            1          b  POLYGON ((150.000 -150.000, 150.000 -150.000, ...\n",
       "2            1          b  POLYGON ((150.000 150.000, 150.000 150.000, 15...\n",
       "3            1          b  POLYGON ((-150.000 150.000, -150.000 150.000, ...\n",
       "4            1          b  POLYGON ((-150.000 -150.000, -150.000 -150.000..."
      ]
     },
     "execution_count": 272,
     "metadata": {},
     "output_type": "execute_result"
    }
   ],
   "source": [
    "unit.elements"
   ]
  },
  {
   "cell_type": "markdown",
   "metadata": {},
   "source": [
    "Get width and height of the tile unit and hence translation vectors for copies."
   ]
  },
  {
   "cell_type": "code",
   "execution_count": 273,
   "metadata": {},
   "outputs": [
    {
     "data": {
      "text/plain": [
       "[(300.0, 0), (300.0, 300.0), (0, 300.0)]"
      ]
     },
     "execution_count": 273,
     "metadata": {},
     "output_type": "execute_result"
    }
   ],
   "source": [
    "bb = unit.tile.geometry[0].bounds\n",
    "w = bb[2] - bb[0]\n",
    "h = bb[3] - bb[1]\n",
    "w, h\n",
    "vectors = [(dx, dy) \n",
    "           for dx in (w, 0) \n",
    "           for dy in (0, h) \n",
    "           if not (dx == 0 and dy == 0)]\n",
    "vectors"
   ]
  },
  {
   "cell_type": "markdown",
   "metadata": {},
   "source": [
    "For each unique fragment_id get the set of objects and attempt to dissolve them into a single object"
   ]
  },
  {
   "cell_type": "code",
   "execution_count": 274,
   "metadata": {},
   "outputs": [],
   "source": [
    "def get_upper_rightmost_index(shapes):\n",
    "    x_plus_y = [s.bounds[2] + s.bounds[3] for s in shapes]\n",
    "    return x_plus_y.index(max(x_plus_y))\n",
    "\n",
    "\n",
    "def merge_fragments(\n",
    "        fragments:list[geom.Polygon],\n",
    "        vectors:list[tuple]) -> list[geom.Polygon]:\n",
    "    if len(fragments) == 1:\n",
    "        return fragments\n",
    "    anchor_index = get_upper_rightmost_index(fragments)\n",
    "    anchor = fragments[anchor_index]\n",
    "    other_fragments = fragments[:anchor_index] + fragments[(anchor_index + 1):]\n",
    "    changes_made = True\n",
    "    while len(other_fragments) > 0 and changes_made:\n",
    "        changes_made = False\n",
    "        to_remove = []\n",
    "        for frag in other_fragments:\n",
    "            if not (frag in to_remove):\n",
    "                for v in vectors:\n",
    "                    trans_frag = affine.translate(frag, v[0], v[1])\n",
    "                    if anchor.distance(trans_frag) < 1e-3:\n",
    "                        anchor = anchor.union(trans_frag).simplify(1e-6)\n",
    "                        to_remove.append(frag)\n",
    "                        changes_made = True\n",
    "        for p in to_remove:\n",
    "            if p in other_fragments:\n",
    "                other_fragments.remove(p)\n",
    "    return [anchor] + other_fragments\n"
   ]
  },
  {
   "cell_type": "code",
   "execution_count": 275,
   "metadata": {},
   "outputs": [],
   "source": [
    "def normalise_tile_unit(tile_unit, v):\n",
    "    elements = []\n",
    "    normed_unit = copy.copy(tile_unit)\n",
    "    ids = list(set(tile_unit.elements.fragment_id))\n",
    "    for id in ids:\n",
    "        fragment_set = list(\n",
    "            tile_unit.elements[\n",
    "                tile_unit.elements.fragment_id == id].geometry)\n",
    "        elements.extend(merge_fragments(fragment_set, v))\n",
    "    new_elements = tile_unit.elements\n",
    "    new_elements.geometry = gpd.GeoSeries(elements) \n",
    "    normed_unit.elements = new_elements\n",
    "    return normed_unit"
   ]
  },
  {
   "cell_type": "code",
   "execution_count": 276,
   "metadata": {},
   "outputs": [],
   "source": [
    "norm_unit = normalise_tile_unit(unit, vectors)"
   ]
  },
  {
   "cell_type": "code",
   "execution_count": 277,
   "metadata": {},
   "outputs": [
    {
     "data": {
      "text/plain": [
       "<AxesSubplot:>"
      ]
     },
     "execution_count": 277,
     "metadata": {},
     "output_type": "execute_result"
    },
    {
     "data": {
      "image/png": "[encoded data removed]",
      "text/plain": [
       "<Figure size 432x288 with 1 Axes>"
      ]
     },
     "metadata": {
      "needs_background": "light"
     },
     "output_type": "display_data"
    }
   ],
   "source": [
    "norm_unit.elements.plot(column = \"element_id\")"
   ]
  },
  {
   "cell_type": "code",
   "execution_count": null,
   "metadata": {},
   "outputs": [],
   "source": []
  }
 ],
 "metadata": {
  "interpreter": {
   "hash": "8ebe6d27dded17195585df01103ddf0ba29fa9b848e192691d9412070e1dba2e"
  },
  "kernelspec": {
   "display_name": "Python 3.10.4 ('weaving')",
   "language": "python",
   "name": "python3"
  },
  "language_info": {
   "codemirror_mode": {
    "name": "ipython",
    "version": 3
   },
   "file_extension": ".py",
   "mimetype": "text/x-python",
   "name": "python",
   "nbconvert_exporter": "python",
   "pygments_lexer": "ipython3",
   "version": "3.10.4"
  },
  "orig_nbformat": 4
 },
 "nbformat": 4,
 "nbformat_minor": 2
}

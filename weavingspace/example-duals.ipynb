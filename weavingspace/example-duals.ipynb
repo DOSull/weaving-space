{
 "cells": [
  {
   "cell_type": "markdown",
   "metadata": {},
   "source": [
    "# Some dual tilings"
   ]
  },
  {
   "cell_type": "code",
   "execution_count": 1,
   "metadata": {},
   "outputs": [],
   "source": [
    "%matplotlib inline\n",
    "import matplotlib.pyplot as pyplot\n",
    "import numpy as np\n",
    "import geopandas as gpd\n",
    "import pandas as pd\n",
    "\n",
    "from shapely.geometry import Polygon\n",
    "from shapely.affinity import rotate\n",
    "\n",
    "from tile_map import Tiling\n",
    "from tile_units import TileUnit\n",
    "\n",
    "import tiling_utils\n",
    "\n",
    "ak = gpd.read_file(\"../data/imd-auckland-2018.gpkg\")"
   ]
  },
  {
   "cell_type": "markdown",
   "metadata": {},
   "source": [
    "## Exploring for now"
   ]
  },
  {
   "cell_type": "code",
   "execution_count": 6,
   "metadata": {},
   "outputs": [
    {
     "data": {
      "text/plain": [
       "<AxesSubplot:>"
      ]
     },
     "execution_count": 6,
     "metadata": {},
     "output_type": "execute_result"
    },
    {
     "data": {
      "image/png": "[encoded data removed]",
      "text/plain": [
       "<Figure size 432x288 with 1 Axes>"
      ]
     },
     "metadata": {
      "needs_background": "light"
     },
     "output_type": "display_data"
    }
   ],
   "source": [
    "unit = TileUnit(tiling_type = \"archimedean\", code = \"4.6.12\", crs = ak.crs)\n",
    "ax = unit.elements.plot(column = \"element_id\")\n",
    "unit.tile.plot(ax = ax, edgecolor = \"k\", facecolor = \"#00000000\")\n",
    "unit.regularised_tile.plot(ax = ax, edgecolor = \"r\", facecolor = \"#00000000\")"
   ]
  },
  {
   "cell_type": "code",
   "execution_count": null,
   "metadata": {},
   "outputs": [],
   "source": [
    "fig = pyplot.figure(figsize = (15, 15))\n",
    "codes = [\"3.4.6.4\", \"3.6.3.6\", \"4.6.12\", \"3.3.4.3.4\"]\n",
    "for code, posn in zip(codes, range(221, 225)):\n",
    "    t = TileUnit(tiling_type = \"laves\", code = code, crs = ak.crs)\n",
    "    ax = fig.add_subplot(posn)\n",
    "    t.get_local_patch(r = 1, include_0 = True).plot(\n",
    "        ax = ax, edgecolor = \"w\", facecolor = \"lightgrey\")\n",
    "    t.tile.plot(ax = ax, alpha = 0.3)\n",
    "    t.elements = tiling_utils.get_dual_tile_unit(t)\n",
    "    # t.regularise_elements()\n",
    "    t.elements.plot(ax = ax, edgecolor = \"k\", facecolor = \"#00000000\")"
   ]
  },
  {
   "cell_type": "markdown",
   "metadata": {},
   "source": [
    "We can drop this easily enough"
   ]
  },
  {
   "cell_type": "code",
   "execution_count": null,
   "metadata": {},
   "outputs": [],
   "source": [
    "t.elements.drop_duplicates([\"element_id\"], inplace = True)\n",
    "t.regularised_tile.geometry = gpd.GeoSeries(\n",
    "    [t.elements.geometry.buffer(1e-3).unary_union.buffer(-1e-3)])\n",
    "\n",
    "ax = t.get_local_patch(r = 1).plot(figsize = (10, 10),\n",
    "    column = \"element_id\", alpha = 0.3)\n",
    "t.elements.plot(ax = ax, column = \"element_id\")\n",
    "t.tile.plot(ax = ax, edgecolor = \"k\", facecolor = \"#00000000\")\n",
    "t.regularised_tile.plot(ax = ax, edgecolor = \"r\", facecolor = \"#00000000\")"
   ]
  },
  {
   "cell_type": "markdown",
   "metadata": {},
   "source": [
    "The tile is the same whether we do the rhombus version or the squares and triangles version."
   ]
  },
  {
   "cell_type": "code",
   "execution_count": null,
   "metadata": {},
   "outputs": [],
   "source": [
    "tiling = Tiling(t, ak, id_var = \"DZ2018\").get_tiled_map(prioritise_tiles = False)\n",
    "\n",
    "fig = pyplot.figure(figsize = (24, 15))\n",
    "ax = fig.add_subplot(111)\n",
    "# ak.plot(ax = ax, facecolor = \"#009966\", linewidth = 0)\n",
    "\n",
    "strands = pd.Series.unique(tiling.element_id)\n",
    "cols = [x for x in tiling.columns if \"Rank\" in x]\n",
    "cmaps = (\"RdYlBu\", \"viridis\", \"PuOr\", \"Spectral\", \n",
    "         \"BrBG\", \"RdGy\", \"PiYG\", \"PRGn\")\n",
    "\n",
    "for strand, col, cmap in zip(strands, cols, cmaps):\n",
    "    tiling[tiling.element_id == strand].plot(\n",
    "        ax = ax, column = col, cmap = cmap, k = 100, \n",
    "        scheme = \"equal_interval\", linewidth = 0)"
   ]
  }
 ],
 "metadata": {
  "interpreter": {
   "hash": "8ebe6d27dded17195585df01103ddf0ba29fa9b848e192691d9412070e1dba2e"
  },
  "kernelspec": {
   "display_name": "Python 3.10.4 ('weaving')",
   "language": "python",
   "name": "python3"
  },
  "language_info": {
   "codemirror_mode": {
    "name": "ipython",
    "version": 3
   },
   "file_extension": ".py",
   "mimetype": "text/x-python",
   "name": "python",
   "nbconvert_exporter": "python",
   "pygments_lexer": "ipython3",
   "version": "3.10.4"
  },
  "orig_nbformat": 4
 },
 "nbformat": 4,
 "nbformat_minor": 2
}

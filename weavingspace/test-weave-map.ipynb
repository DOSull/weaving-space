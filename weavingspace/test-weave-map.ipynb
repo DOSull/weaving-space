{
 "cells": [
  {
   "cell_type": "code",
   "execution_count": null,
   "id": "d3b66764",
   "metadata": {},
   "outputs": [],
   "source": [
    "%matplotlib inline\n",
    "from matplotlib import pyplot\n",
    "import geopandas\n",
    "\n",
    "from weave_units import WeaveUnit\n",
    "from tile_map import Tiling"
   ]
  },
  {
   "cell_type": "code",
   "execution_count": null,
   "id": "5dff14c6",
   "metadata": {},
   "outputs": [],
   "source": [
    "ak = geopandas.read_file(\"../data/imd-auckland-2018.gpkg\")"
   ]
  },
  {
   "cell_type": "code",
   "execution_count": null,
   "id": "ff8eebee",
   "metadata": {},
   "outputs": [],
   "source": [
    "w1 = WeaveUnit(weave_type = \"twill\", spacing = 100,  aspect = 0.75,\n",
    "                    margin = .03, strands = \"abc|defg\", crs = 2193)\n",
    "\n",
    "fig = pyplot.figure(figsize = (8, 3))\n",
    "ax = fig.add_subplot(111)\n",
    "w1.elements.plot(ax = ax, column = \"element_id\", edgecolor = \"k\", linewidth = 1)\n",
    "w1.tile.plot(ax = ax, facecolor = \"#ffffff00\", \n",
    "             edgecolor = \"r\", linestyle = \"dashed\", linewidth = 2)"
   ]
  },
  {
   "cell_type": "code",
   "execution_count": null,
   "id": "69f02ebb",
   "metadata": {},
   "outputs": [],
   "source": [
    "w2 = WeaveUnit(weave_type = \"cube\", spacing = 150, aspect = 0.9,\n",
    "                    margin = .02, strands = \"a-b|c-d|e-f\", crs = 2193)\n",
    "\n",
    "fig = pyplot.figure(figsize = (6, 5))\n",
    "ax = fig.add_subplot(111)\n",
    "w2.elements.plot(ax = ax, column = \"element_id\", edgecolor = \"k\", linewidth = 1)\n",
    "w2.tile.plot(ax = ax, facecolor = \"#ffffff00\", \n",
    "             edgecolor = \"r\", linestyle = \"dashed\", linewidth = 2)"
   ]
  },
  {
   "cell_type": "markdown",
   "id": "1c384e8d",
   "metadata": {},
   "source": [
    "### Tiling"
   ]
  },
  {
   "cell_type": "code",
   "execution_count": null,
   "id": "b43b2c5d",
   "metadata": {},
   "outputs": [],
   "source": [
    "weave1 = Tiling(w1, ak, id_var = \"DZ2018\")"
   ]
  },
  {
   "cell_type": "code",
   "execution_count": null,
   "id": "14502064",
   "metadata": {},
   "outputs": [],
   "source": [
    "textile1 = weave1.get_tiled_map(rotation = 30)"
   ]
  },
  {
   "cell_type": "code",
   "execution_count": null,
   "id": "e05c4557",
   "metadata": {},
   "outputs": [],
   "source": [
    "fig = pyplot.figure(figsize = (24, 15))\n",
    "ax = fig.add_subplot(111)\n",
    "# ak.plot(ax = ax, facecolor = \"grey\", linewidth = 0)\n",
    "\n",
    "strands = set(textile1.element_id)\n",
    "cols = [x for x in textile1.columns if \"Rank\" in x]\n",
    "cmaps = (\"OrRd\", \"BuPu\", \"Greys\", \"BuGn\", \"YlOrRd\", \"YlGnBu\", \"RdPu\")\n",
    "cmaps = (\"BrBG\", \"RdGy\", \"RdYlBu\", \"Spectral\",\n",
    "         \"PiYG\", \"PRGn\", \"PuOr\", \"viridis\")\n",
    "\n",
    "for strand, col, cmap in zip(strands, cols, cmaps):\n",
    "    textile1[textile1.element_id == strand].plot(ax = ax, column = col, cmap = cmap, k = 100, scheme = \"equal_interval\", linewidth = 0)\n"
   ]
  },
  {
   "cell_type": "code",
   "execution_count": null,
   "id": "4ebf9e96",
   "metadata": {},
   "outputs": [],
   "source": [
    "weave2 = Tiling(w2, ak, id_var = \"DZ2018\")"
   ]
  },
  {
   "cell_type": "code",
   "execution_count": null,
   "id": "df473a26",
   "metadata": {},
   "outputs": [],
   "source": [
    "textile2 = weave2.get_tiled_map(rotation = 20)"
   ]
  },
  {
   "cell_type": "code",
   "execution_count": null,
   "id": "c433e354",
   "metadata": {},
   "outputs": [],
   "source": [
    "fig = pyplot.figure(figsize = (24, 15))\n",
    "ax = fig.add_subplot(111)\n",
    "ak.plot(ax = ax, facecolor = \"grey\", linewidth = 0)\n",
    "\n",
    "strands = set(textile2.element_id)\n",
    "cols = [x for x in textile2.columns if \"Rank\" in x]\n",
    "cmaps = (\"OrRd\", \"BuPu\", \"Greys\", \"BuGn\", \"YlOrRd\", \"YlGnBu\", \"RdPu\")\n",
    "\n",
    "for strand, col, cmap in zip(strands, cols, cmaps):\n",
    "    textile2[textile2.element_id == strand].plot(ax = ax, column = col, \n",
    "                                             cmap = cmap, linewidth = 0)\n"
   ]
  },
  {
   "cell_type": "code",
   "execution_count": null,
   "id": "c5463a16",
   "metadata": {},
   "outputs": [],
   "source": []
  }
 ],
 "metadata": {
  "kernelspec": {
   "display_name": "Python 3 (ipykernel)",
   "language": "python",
   "name": "python3"
  },
  "language_info": {
   "codemirror_mode": {
    "name": "ipython",
    "version": 3
   },
   "file_extension": ".py",
   "mimetype": "text/x-python",
   "name": "python",
   "nbconvert_exporter": "python",
   "pygments_lexer": "ipython3",
   "version": "3.10.4"
  }
 },
 "nbformat": 4,
 "nbformat_minor": 5
}

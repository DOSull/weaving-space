{
 "cells": [
  {
   "cell_type": "code",
   "execution_count": null,
   "id": "d3b66764",
   "metadata": {},
   "outputs": [],
   "source": [
    "%matplotlib inline\n",
    "from matplotlib import pyplot\n",
    "import geopandas\n",
    "\n",
    "%run -i tile_map.py"
   ]
  },
  {
   "cell_type": "code",
   "execution_count": null,
   "id": "5dff14c6",
   "metadata": {},
   "outputs": [],
   "source": [
    "ak = geopandas.read_file(\"../data/imd-auckland-2018.gpkg\")"
   ]
  },
  {
   "cell_type": "code",
   "execution_count": null,
   "id": "ff8eebee",
   "metadata": {},
   "outputs": [],
   "source": [
    "w1 = WeaveUnit(weave_type = \"twill\", spacing = 100,  aspect = 0.75,\n",
    "                    margin = .03, strands = \"abc|defg\", crs = 2193)\n",
    "\n",
    "fig = pyplot.figure(figsize = (8, 3))\n",
    "ax = fig.add_subplot(111)\n",
    "w1.elements.plot(ax = ax, column = \"strand\", edgecolor = \"k\", linewidth = 1)\n",
    "w1.tile.plot(ax = ax, facecolor = \"#ffffff00\", \n",
    "             edgecolor = \"r\", linestyle = \"dashed\", linewidth = 2)"
   ]
  },
  {
   "cell_type": "code",
   "execution_count": null,
   "id": "69f02ebb",
   "metadata": {},
   "outputs": [],
   "source": [
    "w2 = WeaveUnit(weave_type = \"cube\", spacing = 150, aspect = 0.9,\n",
    "                    margin = .02, strands = \"a-b|c-d|e-f\", crs = 2193)\n",
    "\n",
    "fig = pyplot.figure(figsize = (6, 5))\n",
    "ax = fig.add_subplot(111)\n",
    "w2.elements.plot(ax = ax, column = \"strand\", edgecolor = \"k\", linewidth = 1)\n",
    "w2.tile.plot(ax = ax, facecolor = \"#ffffff00\", \n",
    "             edgecolor = \"r\", linestyle = \"dashed\", linewidth = 2)"
   ]
  },
  {
   "cell_type": "markdown",
   "id": "1c384e8d",
   "metadata": {},
   "source": [
    "### Tiling"
   ]
  },
  {
   "cell_type": "code",
   "execution_count": null,
   "id": "1367a99b",
   "metadata": {},
   "outputs": [],
   "source": [
    "weave1 = Tiling(w1, ak)"
   ]
  },
  {
   "cell_type": "code",
   "execution_count": null,
   "id": "14502064",
   "metadata": {},
   "outputs": [],
   "source": [
    "weave_30 = weave1.rotated(30)"
   ]
  },
  {
   "cell_type": "code",
   "execution_count": null,
   "id": "305d4082",
   "metadata": {},
   "outputs": [],
   "source": [
    "textile1 = ak.overlay(weave_30)"
   ]
  },
  {
   "cell_type": "code",
   "execution_count": null,
   "id": "e05c4557",
   "metadata": {},
   "outputs": [],
   "source": [
    "fig = pyplot.figure(figsize = (24, 15))\n",
    "ax = fig.add_subplot(111)\n",
    "ak.plot(ax = ax, facecolor = \"grey\", linewidth = 0)\n",
    "\n",
    "strands = set(textile1.strand)\n",
    "cols = [x for x in textile1.columns if \"Rank\" in x]\n",
    "cmaps = (\"OrRd\", \"BuPu\", \"Greys\", \"BuGn\", \"YlOrRd\", \"YlGnBu\", \"RdPu\")\n",
    "\n",
    "for strand, col, cmap in zip(strands, cols, cmaps):\n",
    "    textile1[textile1.strand == strand].plot(ax = ax, column = col, cmap = cmap, k = 100, scheme = \"equal_interval\", linewidth = 0)\n"
   ]
  },
  {
   "cell_type": "code",
   "execution_count": null,
   "id": "4ebf9e96",
   "metadata": {},
   "outputs": [],
   "source": [
    "weave2 = Tiling(w2, ak)"
   ]
  },
  {
   "cell_type": "code",
   "execution_count": null,
   "id": "df473a26",
   "metadata": {},
   "outputs": [],
   "source": [
    "textile2 = ak.overlay(weave2.rotated(20))"
   ]
  },
  {
   "cell_type": "code",
   "execution_count": null,
   "id": "c433e354",
   "metadata": {},
   "outputs": [],
   "source": [
    "fig = pyplot.figure(figsize = (24, 15))\n",
    "ax = fig.add_subplot(111)\n",
    "ak.plot(ax = ax, facecolor = \"grey\", linewidth = 0)\n",
    "\n",
    "strands = set(textile2.strand)\n",
    "cols = [x for x in textile2.columns if \"Rank\" in x]\n",
    "cmaps = (\"OrRd\", \"BuPu\", \"Greys\", \"BuGn\", \"YlOrRd\", \"YlGnBu\", \"RdPu\")\n",
    "\n",
    "for strand, col, cmap in zip(strands, cols, cmaps):\n",
    "    textile2[textile2.strand == strand].plot(ax = ax, column = col, \n",
    "                                             cmap = cmap, linewidth = 0)\n"
   ]
  },
  {
   "cell_type": "code",
   "execution_count": null,
   "id": "52fac75c",
   "metadata": {},
   "outputs": [],
   "source": []
  }
 ],
 "metadata": {
  "kernelspec": {
   "display_name": "Python 3 (ipykernel)",
   "language": "python",
   "name": "python3"
  },
  "language_info": {
   "codemirror_mode": {
    "name": "ipython",
    "version": 3
   },
   "file_extension": ".py",
   "mimetype": "text/x-python",
   "name": "python",
   "nbconvert_exporter": "python",
   "pygments_lexer": "ipython3",
   "version": "3.10.4"
  }
 },
 "nbformat": 4,
 "nbformat_minor": 5
}

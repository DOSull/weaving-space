{
 "cells": [
  {
   "cell_type": "markdown",
   "metadata": {},
   "source": [
    "# Figuring out tile-priority option"
   ]
  },
  {
   "cell_type": "code",
   "execution_count": null,
   "metadata": {},
   "outputs": [],
   "source": [
    "%matplotlib inline\n",
    "from matplotlib import pyplot\n",
    "import geopandas\n",
    "import pandas\n",
    "\n",
    "from weave_units import WeaveUnit\n",
    "from tile_map import Tiling"
   ]
  },
  {
   "cell_type": "code",
   "execution_count": null,
   "metadata": {},
   "outputs": [],
   "source": [
    "ak = geopandas.read_file(\"../data/imd-auckland-2018.gpkg\")"
   ]
  },
  {
   "cell_type": "code",
   "execution_count": null,
   "metadata": {},
   "outputs": [],
   "source": [
    "w1 = WeaveUnit(weave_type = \"twill\", spacing = 100,  aspect = 0.75,\n",
    "                    margin = .03, strands = \"abc|defg\", crs = 2193)\n",
    "\n",
    "fig = pyplot.figure(figsize = (8, 3))\n",
    "ax = fig.add_subplot(111)\n",
    "w1.elements.plot(ax = ax, column = \"element_id\", edgecolor = \"k\", linewidth = 0)\n",
    "w1.tile.plot(ax = ax, facecolor = \"#ffffff00\", \n",
    "             edgecolor = \"r\", linestyle = \"dashed\", linewidth = 2)"
   ]
  },
  {
   "cell_type": "code",
   "execution_count": null,
   "metadata": {},
   "outputs": [],
   "source": [
    "weave1 = Tiling(w1, ak, id_var = \"DZ2018\")\n",
    "rotated_tiles = weave1.rotated(0)"
   ]
  },
  {
   "cell_type": "code",
   "execution_count": null,
   "metadata": {},
   "outputs": [],
   "source": [
    "# clip to the region extent - they will still be one multipolygon per element_id\n",
    "tiles = rotated_tiles.clip(ak)\n",
    "# explode to individual elements (this might be how they should be stored!)\n",
    "tiles = tiles.explode(ignore_index = True)\n",
    "# add an ID per element\n",
    "tiles[\"tileUID\"] = list(range(tiles.shape[0]))\n",
    "# overlay the region data\n",
    "tiles = tiles.overlay(ak, keep_geom_type = False)\n",
    "# add an area attribute\n",
    "tiles[\"area\"] = tiles.geometry.area"
   ]
  },
  {
   "cell_type": "code",
   "execution_count": null,
   "metadata": {},
   "outputs": [],
   "source": [
    "lookup = tiles.iloc[tiles.groupby(\"tileUID\")[\"area\"].agg(\n",
    "    pandas.Series.idxmax)][[\"tileUID\", \"DZ2018\"]]"
   ]
  },
  {
   "cell_type": "code",
   "execution_count": null,
   "metadata": {},
   "outputs": [],
   "source": [
    "tiles = tiles.drop([\"DZ2018\"], axis = 1)\n",
    "tiles = tiles.merge(lookup, on = \"tileUID\")\n",
    "tiles[\"diss_var\"] = tiles.element_id + tiles.DZ2018.astype(str)\n",
    "tiles = tiles.dissolve(\n",
    "    by = \"diss_var\", as_index = False).drop([\"diss_var\"], axis = 1)"
   ]
  },
  {
   "cell_type": "code",
   "execution_count": null,
   "metadata": {},
   "outputs": [],
   "source": [
    "fig = pyplot.figure(figsize = (24, 15))\n",
    "ax = fig.add_subplot(111)\n",
    "\n",
    "strands = set(tiles.element_id)\n",
    "cols = [x for x in tiles.columns if \"Rank\" in x]\n",
    "cmaps = (\"OrRd\", \"BuPu\", \"Greys\", \"BuGn\", \"YlOrRd\", \"YlGnBu\", \"RdPu\")\n",
    "cmaps = (\"BrBG\", \"RdGy\", \"RdYlBu\", \"Spectral\",\n",
    "         \"PiYG\", \"PRGn\", \"PuOr\", \"viridis\")\n",
    "\n",
    "for strand, col, cmap in zip(strands, cols, cmaps):\n",
    "    tiles[tiles.element_id == strand].plot(ax = ax, column = col, cmap = cmap, k = 100, scheme = \"equal_interval\", linewidth = 0)\n",
    "\n",
    "ak.plot(ax = ax, facecolor = \"#00000000\", edgecolor = \"k\")"
   ]
  },
  {
   "cell_type": "code",
   "execution_count": null,
   "metadata": {},
   "outputs": [],
   "source": []
  }
 ],
 "metadata": {
  "interpreter": {
   "hash": "8ebe6d27dded17195585df01103ddf0ba29fa9b848e192691d9412070e1dba2e"
  },
  "kernelspec": {
   "display_name": "Python 3.10.4 ('weaving')",
   "language": "python",
   "name": "python3"
  },
  "language_info": {
   "codemirror_mode": {
    "name": "ipython",
    "version": 3
   },
   "file_extension": ".py",
   "mimetype": "text/x-python",
   "name": "python",
   "nbconvert_exporter": "python",
   "pygments_lexer": "ipython3",
   "version": "3.10.4"
  },
  "orig_nbformat": 4
 },
 "nbformat": 4,
 "nbformat_minor": 2
}

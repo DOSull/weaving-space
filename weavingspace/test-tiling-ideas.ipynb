{
 "cells": [
  {
   "cell_type": "code",
   "execution_count": null,
   "metadata": {},
   "outputs": [],
   "source": [
    "%matplotlib inline\n",
    "from matplotlib import pyplot\n",
    "import geopandas\n",
    "from shapely.geometry import Polygon\n",
    "from shapely.affinity import scale\n",
    "from shapely.affinity import translate\n",
    "import numpy as np\n",
    "\n",
    "%run -i weave_map.py"
   ]
  },
  {
   "cell_type": "markdown",
   "metadata": {},
   "source": [
    "# Exploring possibilities in tiling"
   ]
  },
  {
   "cell_type": "code",
   "execution_count": null,
   "metadata": {},
   "outputs": [],
   "source": [
    "ak = geopandas.read_file(\"../data/imd-auckland-2018.gpkg\")"
   ]
  },
  {
   "cell_type": "code",
   "execution_count": null,
   "metadata": {},
   "outputs": [],
   "source": [
    "import copy\n"
   ]
  },
  {
   "cell_type": "markdown",
   "metadata": {},
   "source": [
    "## Wobbly-sided 'Escherian' squares"
   ]
  },
  {
   "cell_type": "code",
   "execution_count": null,
   "metadata": {},
   "outputs": [],
   "source": [
    "\n",
    "d = 200\n",
    "\n",
    "tile_base = Polygon([(-d, -d), (d, -d), (d, d), (-d, d)])\n",
    "tile_base = geopandas.GeoDataFrame(\n",
    "    geometry = geopandas.GeoSeries([tile_base]), crs = ak.crs)"
   ]
  },
  {
   "cell_type": "code",
   "execution_count": null,
   "metadata": {},
   "outputs": [],
   "source": [
    "x1 = y2 = [x for x in range(-d, d+1, 3)]\n",
    "y1 = [-d + d/4 * np.sin(x / d * np.pi) for x in x1]\n",
    "\n",
    "x2 = [-_ for _ in y1]\n",
    "y2 = [_ for _ in x1]\n",
    "\n",
    "x3 = x1.copy()\n",
    "x3.reverse()\n",
    "y3 = y1.copy()\n",
    "y3.reverse()\n",
    "y3 = [2*d + _ for _ in y3]\n",
    "\n",
    "x4 = [-_ for _ in y3]\n",
    "y4 = [_ for _ in x3]"
   ]
  },
  {
   "cell_type": "code",
   "execution_count": null,
   "metadata": {},
   "outputs": [],
   "source": [
    "\n",
    "side1 = [(x, y) for x, y in zip(x1, y1)]\n",
    "side2 = [(x, y) for x, y in zip(x2, y2)][1:]\n",
    "side3 = [(x, y) for x, y in zip(x3, y3)][1:]\n",
    "side4 = [(x, y) for x, y in zip(x4, y4)][1:]\n",
    "\n",
    "tile1 = translate(\n",
    "    scale(Polygon(side1 + side2 + side3 + side4), 0.5, 0.5),-d/2, -d/2)\n",
    "tile2 = translate(tile1, d, 0)\n",
    "tile3 = translate(tile2, 0, d)\n",
    "tile4 = translate(tile3, -d, 0)\n",
    "\n",
    "tile = geopandas.GeoDataFrame(\n",
    "    geometry = geopandas.GeoSeries([tile1, tile2, tile3, tile4]),\n",
    "    data = {\"strand\": list(\"abcd\")}, crs = ak.crs)\n",
    "\n",
    "ax = tile.plot(column = \"strand\", edgecolor = \"w\")\n",
    "tile_base.plot(ax = ax, facecolor = \"#0000\", edgecolor = \"k\")"
   ]
  },
  {
   "cell_type": "code",
   "execution_count": null,
   "metadata": {},
   "outputs": [],
   "source": [
    "unit = WeaveUnit(crs = 2193) # just to get the container\n",
    "unit.elements = tile\n",
    "unit.tile = tile_base"
   ]
  },
  {
   "cell_type": "code",
   "execution_count": null,
   "metadata": {},
   "outputs": [],
   "source": [
    "tiling = Tiling(unit, ak)\n",
    "t30 = ak.overlay(tiling.rotated(30))\n",
    "t30.shape"
   ]
  },
  {
   "cell_type": "code",
   "execution_count": null,
   "metadata": {},
   "outputs": [],
   "source": [
    "fig = pyplot.figure(figsize = (24, 15))\n",
    "ax = fig.add_subplot(111)\n",
    "# ak.plot(ax = ax, facecolor = \"grey\", linewidth = 0)\n",
    "\n",
    "strands = set(t30.strand)\n",
    "cols = [x for x in t30.columns if \"Rank\" in x]\n",
    "cmaps = (\"viridis\", \"plasma_r\", \"Spectral\", \"PRGn\")\n",
    "\n",
    "for strand, col, cmap in zip(strands, cols, cmaps):\n",
    "    t30[t30.strand == strand].plot(ax = ax, column = col, cmap = cmap, k = 100, scheme = \"equal_interval\", linewidth = 0)\n"
   ]
  },
  {
   "cell_type": "markdown",
   "metadata": {},
   "source": [
    "## Concentric annuli"
   ]
  },
  {
   "cell_type": "code",
   "execution_count": null,
   "metadata": {},
   "outputs": [],
   "source": [
    "d = 200\n",
    "c = [Point((0, 0)).buffer(r) for r in range(d, 0, -d//7)]\n",
    "annuli = [circ.difference(c[i + 1]) for i, circ in enumerate(c[:-1])] + c[-1:]\n",
    "\n",
    "tile = geopandas.GeoDataFrame(\n",
    "    geometry = geopandas.GeoSeries(annuli),\n",
    "    crs = ak.crs, data = {\"strand\": list(\"abcdefg\")}\n",
    ")"
   ]
  },
  {
   "cell_type": "markdown",
   "metadata": {},
   "source": [
    "### Some tile shapes\n",
    "Note that only rectangular and hexagonal currently useable in the weave code. Have to add a `_get_tri_centres` method to the `weave_map.TileGrid` class to enable triangles to be tiled."
   ]
  },
  {
   "cell_type": "code",
   "execution_count": null,
   "metadata": {},
   "outputs": [],
   "source": [
    "def get_regular_polygon(n, d):\n",
    "    a0 = -90 + 360 / n / 2\n",
    "    angles = np.linspace(0, 360 * (n - 1) / n, n) + a0\n",
    "    R = d / np.cos(np.radians(180 / n))\n",
    "    corners = [(R * np.cos(np.radians(a)), R * np.sin(np.radians(a)))\n",
    "               for a in angles]\n",
    "    return Polygon(corners)\n",
    "\n",
    "tri_base = geopandas.GeoDataFrame(crs = ak.crs,\n",
    "    geometry = geopandas.GeoSeries([get_regular_polygon(3, d)]))\n",
    "rect_base = geopandas.GeoDataFrame(crs = ak.crs,\n",
    "    geometry = geopandas.GeoSeries([get_regular_polygon(4, d)]))\n",
    "hex_base = geopandas.GeoDataFrame(crs = ak.crs,\n",
    "    geometry = geopandas.GeoSeries([get_regular_polygon(6, d)]))\n"
   ]
  },
  {
   "cell_type": "code",
   "execution_count": null,
   "metadata": {},
   "outputs": [],
   "source": [
    "ax = tile.plot(column = \"strand\")\n",
    "rect_base.plot(ax = ax, alpha = 0.35)\n",
    "hex_base.plot(ax = ax, alpha = 0.35)\n",
    "tri_base.plot(ax = ax, alpha = 0.35)"
   ]
  },
  {
   "cell_type": "code",
   "execution_count": null,
   "metadata": {},
   "outputs": [],
   "source": [
    "unit = WeaveUnit(crs = 2193)\n",
    "unit.elements = tile\n",
    "unit.tile = hex_base\n",
    "unit.tile_shape = \"hexagon\"\n",
    "\n",
    "tiling = Tiling(unit, ak)"
   ]
  },
  {
   "cell_type": "code",
   "execution_count": null,
   "metadata": {},
   "outputs": [],
   "source": [
    "t30 = ak.overlay(tiling.rotated(15))"
   ]
  },
  {
   "cell_type": "code",
   "execution_count": null,
   "metadata": {},
   "outputs": [],
   "source": [
    "fig = pyplot.figure(figsize = (24, 15))\n",
    "ax = fig.add_subplot(111)\n",
    "ak.plot(ax = ax, facecolor = \"#009966\", linewidth = 0)\n",
    "\n",
    "strands = set(t30.strand)\n",
    "cols = [x for x in t30.columns if \"Rank\" in x]\n",
    "cmaps = (\"BrBG\", \"PiYG\", \"PRGn\", \"PuOr\", \"RdGy\", \"RdYlBu\", \"Spectral\")\n",
    "\n",
    "for strand, col, cmap in zip(strands, cols, cmaps):\n",
    "    t30[t30.strand == strand].plot(ax = ax, column = col, cmap = cmap, k = 100, scheme = \"equal_interval\", linewidth = 0)\n"
   ]
  },
  {
   "cell_type": "code",
   "execution_count": null,
   "metadata": {},
   "outputs": [],
   "source": [
    "fig.savefig(\"test.svg\")\n"
   ]
  },
  {
   "cell_type": "code",
   "execution_count": null,
   "metadata": {},
   "outputs": [],
   "source": []
  }
 ],
 "metadata": {
  "interpreter": {
   "hash": "8ebe6d27dded17195585df01103ddf0ba29fa9b848e192691d9412070e1dba2e"
  },
  "kernelspec": {
   "display_name": "Python 3.10.4 ('weaving')",
   "language": "python",
   "name": "python3"
  },
  "language_info": {
   "codemirror_mode": {
    "name": "ipython",
    "version": 3
   },
   "file_extension": ".py",
   "mimetype": "text/x-python",
   "name": "python",
   "nbconvert_exporter": "python",
   "pygments_lexer": "ipython3",
   "version": "3.10.4"
  },
  "orig_nbformat": 4
 },
 "nbformat": 4,
 "nbformat_minor": 2
}

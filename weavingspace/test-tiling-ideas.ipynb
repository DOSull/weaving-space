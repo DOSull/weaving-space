{
 "cells": [
  {
   "cell_type": "code",
   "execution_count": null,
   "metadata": {},
   "outputs": [],
   "source": [
    "%matplotlib inline\n",
    "from matplotlib import pyplot\n",
    "import geopandas\n",
    "from shapely.geometry import Polygon\n",
    "\n",
    "%run -i weave_map.py"
   ]
  },
  {
   "cell_type": "code",
   "execution_count": null,
   "metadata": {},
   "outputs": [],
   "source": [
    "ak = geopandas.read_file(\"../data/imd-auckland-2018.gpkg\")"
   ]
  },
  {
   "cell_type": "code",
   "execution_count": null,
   "metadata": {},
   "outputs": [],
   "source": [
    "import copy\n",
    "\n",
    "max_coord = 150\n",
    "\n",
    "x1 = [x for x in range(-max_coord, max_coord + 1, 1)]\n",
    "y1 = [np.cos(i / max_coord * np.pi) * 50 for i in x1]\n",
    "x2 = copy.copy(x1)\n",
    "y2 = copy.copy(y1)\n",
    "\n",
    "x1.reverse()\n",
    "y1.reverse()\n",
    "x1.insert(0, max_coord)\n",
    "x1.insert(0, -max_coord)\n",
    "y1.insert(0, max_coord)\n",
    "y1.insert(0, max_coord)\n",
    "\n",
    "x2.insert(0, -max_coord)\n",
    "x2.insert(0, max_coord)\n",
    "y2.insert(0, -max_coord)\n",
    "y2.insert(0, -max_coord)\n",
    "\n",
    "p1 = Polygon(zip(x1, y1))\n",
    "p2 = Polygon(zip(x2, y2))"
   ]
  },
  {
   "cell_type": "code",
   "execution_count": null,
   "metadata": {},
   "outputs": [],
   "source": [
    "tile1 = geopandas.GeoSeries([p1, p2])\n",
    "tile2 = tile1.geometry.rotate(90, (0, 0))\n",
    "tile1 = geopandas.GeoDataFrame(geometry = tile1, crs = 2193)\n",
    "tile2 = geopandas.GeoDataFrame(geometry = tile2, crs = 2193)"
   ]
  },
  {
   "cell_type": "code",
   "execution_count": null,
   "metadata": {},
   "outputs": [],
   "source": [
    "tiles = tile2.overlay(tile1)\n",
    "tiles[\"strand\"] = list(\"abcd\")"
   ]
  },
  {
   "cell_type": "code",
   "execution_count": null,
   "metadata": {},
   "outputs": [],
   "source": [
    "tile_bb = geopandas.GeoDataFrame(\n",
    "    geometry = geopandas.GeoSeries([tiles.unary_union.envelope]), crs = 2193)\n",
    "tile_bb.plot()                                "
   ]
  },
  {
   "cell_type": "code",
   "execution_count": null,
   "metadata": {},
   "outputs": [],
   "source": [
    "tiles.geometry = tiles.geometry.buffer(-10)\n",
    "tiles.plot(column = \"strand\")"
   ]
  },
  {
   "cell_type": "code",
   "execution_count": null,
   "metadata": {},
   "outputs": [],
   "source": [
    "unit = WeaveUnit(crs = 2193) # just to get the container\n",
    "unit.elements = tiles\n",
    "unit.tile = tile_bb"
   ]
  },
  {
   "cell_type": "code",
   "execution_count": null,
   "metadata": {},
   "outputs": [],
   "source": [
    "tiling = Tiling(unit, ak)\n",
    "t30 = ak.overlay(tiling.rotated(30))"
   ]
  },
  {
   "cell_type": "code",
   "execution_count": null,
   "metadata": {},
   "outputs": [],
   "source": [
    "fig = pyplot.figure(figsize = (24, 15))\n",
    "ax = fig.add_subplot(111)\n",
    "ak.plot(ax = ax, facecolor = \"grey\", linewidth = 0)\n",
    "\n",
    "strands = set(t30.strand)\n",
    "cols = [x for x in t30.columns if \"Rank\" in x]\n",
    "cmaps = (\"viridis\", \"plasma_r\", \"Spectral\", \"PRGn\")\n",
    "\n",
    "for strand, col, cmap in zip(strands, cols, cmaps):\n",
    "    t30[t30.strand == strand].plot(ax = ax, column = col, cmap = cmap, k = 100, scheme = \"equal_interval\", linewidth = 0)\n"
   ]
  },
  {
   "cell_type": "code",
   "execution_count": null,
   "metadata": {},
   "outputs": [],
   "source": [
    "t30.to_file(\"test.gpkg\")"
   ]
  },
  {
   "cell_type": "code",
   "execution_count": null,
   "metadata": {},
   "outputs": [],
   "source": []
  }
 ],
 "metadata": {
  "interpreter": {
   "hash": "8ebe6d27dded17195585df01103ddf0ba29fa9b848e192691d9412070e1dba2e"
  },
  "kernelspec": {
   "display_name": "Python 3.10.4 ('weaving')",
   "language": "python",
   "name": "python3"
  },
  "language_info": {
   "codemirror_mode": {
    "name": "ipython",
    "version": 3
   },
   "file_extension": ".py",
   "mimetype": "text/x-python",
   "name": "python",
   "nbconvert_exporter": "python",
   "pygments_lexer": "ipython3",
   "version": "3.10.4"
  },
  "orig_nbformat": 4
 },
 "nbformat": 4,
 "nbformat_minor": 2
}

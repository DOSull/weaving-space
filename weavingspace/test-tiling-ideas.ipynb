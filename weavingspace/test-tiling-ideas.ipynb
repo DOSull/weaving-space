{
 "cells": [
  {
   "cell_type": "code",
   "execution_count": null,
   "metadata": {},
   "outputs": [],
   "source": [
    "%matplotlib inline\n",
    "from matplotlib import pyplot\n",
    "import geopandas\n",
    "from shapely.geometry import Point\n",
    "from shapely.geometry import Polygon\n",
    "from shapely.affinity import scale\n",
    "from shapely.affinity import translate\n",
    "from shapely.affinity import rotate\n",
    "import numpy as np\n",
    "\n",
    "from tile_units import TileUnit\n",
    "from tile_map import Tiling"
   ]
  },
  {
   "cell_type": "markdown",
   "metadata": {},
   "source": [
    "# Exploring possibilities in tiling"
   ]
  },
  {
   "cell_type": "code",
   "execution_count": null,
   "metadata": {},
   "outputs": [],
   "source": [
    "ak = geopandas.read_file(\"../data/imd-auckland-2018.gpkg\")"
   ]
  },
  {
   "cell_type": "code",
   "execution_count": null,
   "metadata": {},
   "outputs": [],
   "source": [
    "import copy\n",
    "\n",
    "def gridify(gs, d = 3):\n",
    "    return geopandas.GeoSeries.from_wkt(gs.to_wkt(rounding_precision = d))"
   ]
  },
  {
   "cell_type": "markdown",
   "metadata": {},
   "source": [
    "## Cairo\n",
    "The one true tiling."
   ]
  },
  {
   "cell_type": "code",
   "execution_count": null,
   "metadata": {},
   "outputs": [],
   "source": [
    "d = 400\n",
    "tile_unit = TileUnit(spacing = d, crs = 2193)\n",
    "tile = tile_unit.tile.geometry[0]"
   ]
  },
  {
   "cell_type": "code",
   "execution_count": null,
   "metadata": {},
   "outputs": [],
   "source": [
    "subtile = rotate(translate(tile, d, d), 30, origin = (0, 0))\n",
    "subtiles = [rotate(subtile, a, origin = (0, 0)) \n",
    "            for a in range(0, 360, 90)]\n",
    "subtiles = geopandas.GeoDataFrame(\n",
    "    data = {\"element_id\": list(\"abcd\")}, crs = 2193,\n",
    "    geometry = geopandas.GeoSeries(subtiles))\n",
    "subtiles = tile_unit.tile.overlay(subtiles)\n",
    "\n",
    "subtiles1 = subtiles.geometry.translate(-d*0.999, -d+0.999)\n",
    "subtiles2 = subtiles1.scale(-1, 1, origin = (0, 0))\n",
    "subtiles3 = subtiles2.scale(1, -1, origin = (0, 0))\n",
    "subtiles4 = subtiles1.scale(1, -1, origin = (0, 0))\n",
    "\n",
    "cairo_tile = geopandas.GeoSeries(\n",
    "    list(subtiles1) + list(subtiles2) + list(subtiles3) + list(subtiles4))\n",
    "cairo_unit = geopandas.GeoDataFrame(\n",
    "    data = {\"element_id\": list(\"abcdcbadcdabadcb\")}, crs = 2193,\n",
    "    geometry = cairo_tile\n",
    ")\n",
    "cairo_unit.geometry = cairo_unit.geometry.scale(\n",
    "    0.5/0.999, 0.5/0.999, origin = (0, 0))\n",
    "cairo_unit = cairo_unit.dissolve(by = \"element_id\", as_index = False)\n",
    "cairo_unit.plot(column = \"element_id\", edgecolor = \"w\", cmap = \"viridis\")\n"
   ]
  },
  {
   "cell_type": "code",
   "execution_count": null,
   "metadata": {},
   "outputs": [],
   "source": [
    "tile_unit.elements = cairo_unit\n",
    "tiling = Tiling(tile_unit, ak, id_var = \"DZ2018\")\n",
    "t30 = tiling.get_tiled_map(rotation = 0)"
   ]
  },
  {
   "cell_type": "code",
   "execution_count": null,
   "metadata": {},
   "outputs": [],
   "source": [
    "fig = pyplot.figure(figsize = (24, 15))\n",
    "ax = fig.add_subplot(111)\n",
    "\n",
    "strands = set(t30.element_id)\n",
    "cols = [x for x in t30.columns if \"Rank\" in x]\n",
    "cmaps = (\"Reds\", \"Greys\", \"Blues\", \"Greens\")\n",
    "\n",
    "for strand, col, cmap in zip(strands, cols, cmaps):\n",
    "    t30[t30.element_id == strand].plot(ax = ax, column = col, cmap = cmap)"
   ]
  },
  {
   "cell_type": "markdown",
   "metadata": {},
   "source": [
    "## Wobbly-sided 'Escherian' squares"
   ]
  },
  {
   "cell_type": "code",
   "execution_count": null,
   "metadata": {},
   "outputs": [],
   "source": [
    "\n",
    "d = 350\n",
    "\n",
    "tile_base = Polygon([(-d, -d), (d, -d), (d, d), (-d, d)])\n",
    "tile_base = geopandas.GeoDataFrame(\n",
    "    geometry = geopandas.GeoSeries([tile_base]), crs = ak.crs)"
   ]
  },
  {
   "cell_type": "code",
   "execution_count": null,
   "metadata": {},
   "outputs": [],
   "source": [
    "x1 = [x for x in range(-d, d, 3)]\n",
    "y1 = [-d - d/2 * np.sin(x/d * np.pi) for x in x1]\n",
    "edge1 = [Point(x, y) for x, y in zip(x1, y1)]\n",
    "edge3 = [translate(p, 0, 2*d) for p in edge1]\n",
    "edge3.reverse()\n",
    "\n",
    "y2 = x1.copy()\n",
    "x2 = [ d + d/2 * np.sin(y/d * np.pi) for y in y2]\n",
    "edge2 = [Point(x, y) for x, y in zip(x2, y2)]\n",
    "edge4 = [translate(p, -2*d, 0) for p in edge2]\n",
    "edge4.reverse()\n",
    "\n",
    "tile1 = translate(\n",
    "    scale(Polygon(edge1 + edge2 + edge3 + edge4), 0.5, 0.5), -d/2, -d/2)\n",
    "tile2 = translate(tile1, d, 0)\n",
    "tile3 = translate(tile2, 0, d)\n",
    "tile4 = translate(tile3, -d, 0)\n",
    "\n",
    "tile = geopandas.GeoDataFrame(\n",
    "    geometry = geopandas.GeoSeries([tile1, tile2, tile3, tile4]),\n",
    "    data = {\"element_id\": list(\"abcd\")}, crs = ak.crs)\n",
    "\n",
    "ax = tile.plot(column = \"element_id\", edgecolor = \"w\")\n",
    "tile_base.plot(ax = ax, facecolor = \"#0000\", edgecolor = \"k\")"
   ]
  },
  {
   "cell_type": "code",
   "execution_count": null,
   "metadata": {},
   "outputs": [],
   "source": [
    "unit = TileUnit(crs = 2193, spacing = d)\n",
    "unit.elements = tile\n",
    "unit.tile = tile_base"
   ]
  },
  {
   "cell_type": "code",
   "execution_count": null,
   "metadata": {},
   "outputs": [],
   "source": [
    "tiling = Tiling(unit, ak, id_var = \"DZ2018\")\n",
    "t30 = tiling.get_tiled_map(rotation = 30)"
   ]
  },
  {
   "cell_type": "code",
   "execution_count": null,
   "metadata": {},
   "outputs": [],
   "source": [
    "fig = pyplot.figure(figsize = (24, 15))\n",
    "ax = fig.add_subplot(111)\n",
    "ak.plot(ax = ax, facecolor = \"#006633\", linewidth = 0)\n",
    "\n",
    "strands = set(t30.element_id)\n",
    "cols = [x for x in t30.columns if \"Rank\" in x]\n",
    "cmaps = (\"viridis\", \"plasma_r\", \"Spectral\", \"PRGn\")\n",
    "cmaps = (\"Greys\", \"Greys\", \"Greys\", \"Greys\")\n",
    "\n",
    "for strand, col, cmap in zip(strands, cols, cmaps):\n",
    "    t30[t30.element_id == strand].plot(ax = ax, column = col, cmap = cmap, k = 100, scheme = \"equal_interval\", linewidth = 0)\n"
   ]
  },
  {
   "cell_type": "markdown",
   "metadata": {},
   "source": [
    "## Concentric annuli"
   ]
  },
  {
   "cell_type": "code",
   "execution_count": null,
   "metadata": {},
   "outputs": [],
   "source": [
    "d = 200\n",
    "c = [Point((0, 0)).buffer(r) for r in range(d, 0, -d//7)]\n",
    "annuli = [circ.difference(c[i + 1]) for i, circ in enumerate(c[:-1])] + c[-1:]\n",
    "\n",
    "tile = geopandas.GeoDataFrame(\n",
    "    geometry = geopandas.GeoSeries(annuli),\n",
    "    crs = ak.crs, data = {\"element_id\": list(\"abcdefg\")}\n",
    ")"
   ]
  },
  {
   "cell_type": "code",
   "execution_count": null,
   "metadata": {},
   "outputs": [],
   "source": [
    "rect_base = TileUnit(crs = 2193, spacing = d)\n",
    "rect_base.elements = tile\n",
    "ax = rect_base.elements.plot(column = \"element_id\")\n",
    "rect_base.tile.plot(ax = ax, alpha = 0.35)"
   ]
  },
  {
   "cell_type": "code",
   "execution_count": null,
   "metadata": {},
   "outputs": [],
   "source": [
    "hex_base = TileUnit(crs = 2193, shape = \"hexagon\", spacing = d)\n",
    "hex_base.elements = tile\n",
    "ax = hex_base.elements.plot(column = \"element_id\")\n",
    "hex_base.tile.plot(ax = ax, alpha = 0.35)"
   ]
  },
  {
   "cell_type": "code",
   "execution_count": null,
   "metadata": {},
   "outputs": [],
   "source": [
    "tri_d_base = TileUnit(crs = 2193, shape = \"triangle\", \n",
    "                    to_hex = False, spacing = d * 2 / 3)\n",
    "tri_d_base.elements = tile\n",
    "ax = tri_d_base.elements.plot(column = \"element_id\")\n",
    "tri_d_base.tile.plot(ax = ax, alpha = 0.35)"
   ]
  },
  {
   "cell_type": "code",
   "execution_count": null,
   "metadata": {},
   "outputs": [],
   "source": [
    "# tiling = Tiling(tri_d_base, ak, id_var = \"DZ2018\")\n",
    "# tiling = Tiling(rect_base, ak, id_var = \"DZ2018\")\n",
    "tiling = Tiling(hex_base, ak, id_var = \"DZ2018\")"
   ]
  },
  {
   "cell_type": "code",
   "execution_count": null,
   "metadata": {},
   "outputs": [],
   "source": [
    "t30 = tiling.get_tiled_map()"
   ]
  },
  {
   "cell_type": "code",
   "execution_count": null,
   "metadata": {},
   "outputs": [],
   "source": [
    "fig = pyplot.figure(figsize = (24, 15))\n",
    "ax = fig.add_subplot(111)\n",
    "# ak.plot(ax = ax, facecolor = \"#009966\", linewidth = 0)\n",
    "\n",
    "strands = set(t30.element_id)\n",
    "cols = [x for x in t30.columns if \"Rank\" in x]\n",
    "cmaps = (\"BrBG\", \"PiYG\", \"PRGn\", \"PuOr\", \"RdGy\", \"RdYlBu\", \"Spectral\")\n",
    "\n",
    "for strand, col, cmap in zip(strands, cols, cmaps):\n",
    "    t30[t30.element_id == strand].plot(ax = ax, column = col, cmap = cmap, k = 100, scheme = \"equal_interval\", linewidth = 0)\n"
   ]
  },
  {
   "cell_type": "code",
   "execution_count": null,
   "metadata": {},
   "outputs": [],
   "source": []
  }
 ],
 "metadata": {
  "interpreter": {
   "hash": "8ebe6d27dded17195585df01103ddf0ba29fa9b848e192691d9412070e1dba2e"
  },
  "kernelspec": {
   "display_name": "Python 3.10.4 ('weaving')",
   "language": "python",
   "name": "python3"
  },
  "language_info": {
   "codemirror_mode": {
    "name": "ipython",
    "version": 3
   },
   "file_extension": ".py",
   "mimetype": "text/x-python",
   "name": "python",
   "nbconvert_exporter": "python",
   "pygments_lexer": "ipython3",
   "version": "3.10.4"
  },
  "orig_nbformat": 4
 },
 "nbformat": 4,
 "nbformat_minor": 2
}

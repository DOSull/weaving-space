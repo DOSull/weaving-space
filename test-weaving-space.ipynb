{
 "cells": [
  {
   "cell_type": "code",
   "execution_count": null,
   "id": "d3b66764",
   "metadata": {},
   "outputs": [],
   "source": [
    "%matplotlib inline\n",
    "from matplotlib import pyplot\n",
    "\n",
    "from weavingspace.weave_map import get_weave_unit"
   ]
  },
  {
   "cell_type": "markdown",
   "id": "5ab5bf80",
   "metadata": {},
   "source": [
    "## Basic usage\n",
    "### Biaxial example\n",
    "Note that we use a non-zero `linewidth` to detect if there are any remaining topological issues with the MultiPolygon shapes forming each strand."
   ]
  },
  {
   "cell_type": "code",
   "execution_count": null,
   "id": "ff8eebee",
   "metadata": {},
   "outputs": [],
   "source": [
    "w = get_weave_unit(weave_type = \"twill\", aspect = 0.8, margin = .025, \n",
    "                   strands = \"a-(cf)|d-(gh)i\")\n",
    "\n",
    "fig = pyplot.figure(figsize = (15, 6))\n",
    "ax = fig.add_subplot(111)\n",
    "w.weave_unit.plot(ax = ax, column = \"strand\", \n",
    "                  edgecolor = \"black\", linewidth = 1.)\n",
    "w.tile.plot(ax = ax, facecolor = \"#ffffff00\", edgecolor = \"r\", linewidth = 2., linestyle = \"dashed\")"
   ]
  },
  {
   "cell_type": "markdown",
   "id": "c9e27169",
   "metadata": {},
   "source": [
    "### Triaxial example"
   ]
  },
  {
   "cell_type": "code",
   "execution_count": null,
   "id": "92d653fe",
   "metadata": {},
   "outputs": [],
   "source": [
    "w = get_weave_unit(weave_type = \"cube\", aspect = .95, margin = 0.05, \n",
    "                   strands = \"a(dD)-|b-(eE)|-c-\")\n",
    "\n",
    "fig = pyplot.figure(figsize = (15, 12))\n",
    "ax = fig.add_subplot(111)\n",
    "w.weave_unit.plot(ax = ax, column = \"strand\", edgecolor = \"black\", \n",
    "                  linewidth = 1.)\n",
    "w.tile.plot(ax = ax, facecolor = \"#ffffff00\", edgecolor = \"r\", \n",
    "            linewidth = 2., linestyle = \"dashed\")"
   ]
  },
  {
   "cell_type": "code",
   "execution_count": null,
   "id": "40597d02",
   "metadata": {},
   "outputs": [],
   "source": []
  }
 ],
 "metadata": {
  "kernelspec": {
   "display_name": "Python 3 (ipykernel)",
   "language": "python",
   "name": "python3"
  },
  "language_info": {
   "codemirror_mode": {
    "name": "ipython",
    "version": 3
   },
   "file_extension": ".py",
   "mimetype": "text/x-python",
   "name": "python",
   "nbconvert_exporter": "python",
   "pygments_lexer": "ipython3",
   "version": "3.10.4"
  }
 },
 "nbformat": 4,
 "nbformat_minor": 5
}

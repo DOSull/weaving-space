{
 "cells": [
  {
   "cell_type": "markdown",
   "id": "1b8664ef",
   "metadata": {},
   "source": [
    "Import the python code files"
   ]
  },
  {
   "cell_type": "code",
   "execution_count": null,
   "id": "d3b66764",
   "metadata": {},
   "outputs": [],
   "source": [
    "%run -i loom.py\n",
    "%run -i biaxial_weave_units.py\n",
    "%run -i triaxial_weave_units.py\n",
    "%run -i weaving_space_utils.py\n",
    "%run -i render_weave_grids.py\n",
    "\n",
    "import geopandas\n",
    "from matplotlib import pyplot\n",
    "from itertools import chain\n",
    "\n",
    "%matplotlib inline"
   ]
  },
  {
   "cell_type": "code",
   "execution_count": null,
   "id": "7785f456",
   "metadata": {},
   "outputs": [],
   "source": [
    "result = get_biaxial_weave_unit(weave_type = \"basket\", aspect = 0.8, margin = 0, strands = \"a|b|c\")\n",
    "weave = result[\"weave_unit\"]\n",
    "tile = result[\"tile\"]\n"
   ]
  },
  {
   "cell_type": "code",
   "execution_count": null,
   "id": "a1601a28",
   "metadata": {},
   "outputs": [],
   "source": [
    "\n",
    "fig = pyplot.figure(figsize = (15, 15))\n",
    "ax = fig.add_subplot(111)\n",
    "weave.plot(ax = ax, column = \"strand\")\n",
    "tile.plot(ax = ax, facecolor = \"#ffffff00\", edgecolor = \"k\")\n",
    "# fig.savefig(\"x.svg\")"
   ]
  },
  {
   "cell_type": "code",
   "execution_count": null,
   "id": "e22c7865",
   "metadata": {},
   "outputs": [],
   "source": [
    "weave"
   ]
  },
  {
   "cell_type": "code",
   "execution_count": null,
   "id": "8cadffe2",
   "metadata": {},
   "outputs": [],
   "source": []
  }
 ],
 "metadata": {
  "kernelspec": {
   "display_name": "Python 3 (ipykernel)",
   "language": "python",
   "name": "python3"
  },
  "language_info": {
   "codemirror_mode": {
    "name": "ipython",
    "version": 3
   },
   "file_extension": ".py",
   "mimetype": "text/x-python",
   "name": "python",
   "nbconvert_exporter": "python",
   "pygments_lexer": "ipython3",
   "version": "3.10.4"
  }
 },
 "nbformat": 4,
 "nbformat_minor": 5
}

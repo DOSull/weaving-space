{
 "cells": [
  {
   "cell_type": "code",
   "execution_count": null,
   "id": "d3b66764",
   "metadata": {},
   "outputs": [],
   "source": [
    "%matplotlib inline\n",
    "from matplotlib import pyplot"
   ]
  },
  {
   "cell_type": "code",
   "execution_count": null,
   "id": "f25d4232",
   "metadata": {},
   "outputs": [],
   "source": [
    "%run -i loom.py\n",
    "%run -i weave_grids.py\n",
    "%run -i render_weave_grids.py\n",
    "%run -i weave_map.py"
   ]
  },
  {
   "cell_type": "markdown",
   "id": "5ab5bf80",
   "metadata": {},
   "source": [
    "## Basic usage\n",
    "### Biaxial example\n",
    "Note that we use a non-zero `linewidth` to detect if there are any remaining topological issues with the MultiPolygon shapes forming each strand."
   ]
  },
  {
   "cell_type": "code",
   "execution_count": null,
   "id": "ff8eebee",
   "metadata": {},
   "outputs": [],
   "source": [
    "w = get_weave_unit(weave_type = \"twill\", aspect = 1, margin = .05, strands = \"abc|de\")\n",
    "\n",
    "fig = pyplot.figure(figsize = (15, 6))\n",
    "ax = fig.add_subplot(111)\n",
    "w.weave_unit.plot(ax = ax, column = \"strand\", edgecolor = \"black\", linewidth = 1.)\n",
    "w.tile.plot(ax = ax, facecolor = \"#ffffff00\", edgecolor = \"r\", linewidth = 2., linestyle = \"dashed\")"
   ]
  },
  {
   "cell_type": "markdown",
   "id": "c9e27169",
   "metadata": {},
   "source": [
    "### Triaxial example"
   ]
  },
  {
   "cell_type": "code",
   "execution_count": null,
   "id": "92d653fe",
   "metadata": {},
   "outputs": [],
   "source": [
    "w = get_weave_unit(weave_type = \"cube\", aspect = 1, margin = 0.05, strands = \"ad-|b-e|-cf\")\n",
    "\n",
    "fig = pyplot.figure(figsize = (15, 12))\n",
    "ax = fig.add_subplot(111)\n",
    "w.weave_unit.plot(ax = ax, column = \"strand\", edgecolor = \"black\", linewidth = 1.)\n",
    "w.tile.plot(ax = ax, facecolor = \"#ffffff00\", edgecolor = \"r\", linewidth = 2., linestyle = \"dashed\")"
   ]
  },
  {
   "cell_type": "markdown",
   "id": "56063ca8",
   "metadata": {},
   "source": [
    "### (Internal) usage of the `_WeaveGrid` class\n",
    "`_WeaveGrid` isn't really intended for external usage. It handles creating strand intersection site geometries given specified number of axes (either 2 or 3) and a tuple of orientations (or directions) for the different axes. `_WeaveGrid` has the constructor signature\n",
    "\n",
    "    def __init__(self, n_axes, orientations, spacing, precision = 1):\n",
    "\n",
    "where `n_axes` (required) is 2 or 3, `orientations` (required) is `(0, -90)` or `(0, 120, 240)`. These are supplied in use by the `Loom` object (in time, the `_WeaveGrid` may become an attribute of the `Loom` instance).\n",
    "\n",
    "The main methods accessed by the loom that are used in rendering the weave unit tile are \n",
    "\n",
    "+ `get_grid_cell_at()`, which takes weave unit coordinates---either Cartesian for a biaxial weave or ternary for a triaxial, and\n",
    "+ `get_visible_cell_strands()` which creates the strand geometries for a specific intersection"
   ]
  },
  {
   "cell_type": "code",
   "execution_count": null,
   "id": "d97be5e9",
   "metadata": {},
   "outputs": [],
   "source": [
    "coords = (1, 2, 0)\n",
    "\n",
    "g = _WeaveGrid(3, (0, 120, 240), 5000)\n",
    "c = geopandas.GeoSeries([g.get_grid_cell_at(coords)])\n",
    "ax = c.plot()\n",
    "\n",
    "vcs = g.get_visible_cell_strands(width = 1/3, coords = coords)\n",
    "vcs = geopandas.GeoSeries(vcs)\n",
    "vcs.plot(ax = ax, facecolor = \"#ffffff00\", edgecolor = \"k\")\n"
   ]
  }
 ],
 "metadata": {
  "kernelspec": {
   "display_name": "Python 3 (ipykernel)",
   "language": "python",
   "name": "python3"
  },
  "language_info": {
   "codemirror_mode": {
    "name": "ipython",
    "version": 3
   },
   "file_extension": ".py",
   "mimetype": "text/x-python",
   "name": "python",
   "nbconvert_exporter": "python",
   "pygments_lexer": "ipython3",
   "version": "3.10.4"
  }
 },
 "nbformat": 4,
 "nbformat_minor": 5
}

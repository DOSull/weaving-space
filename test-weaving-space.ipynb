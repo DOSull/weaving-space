{
 "cells": [
  {
   "cell_type": "markdown",
   "id": "1b8664ef",
   "metadata": {},
   "source": [
    "Import the python code files"
   ]
  },
  {
   "cell_type": "code",
   "execution_count": 1,
   "id": "d3b66764",
   "metadata": {},
   "outputs": [],
   "source": [
    "%run -i biaxial_weave_units.py\n",
    "%run -i weaving_space_utils.py\n",
    "%run -i render_weave_grids.py\n",
    "\n",
    "import geopandas"
   ]
  },
  {
   "cell_type": "code",
   "execution_count": 13,
   "id": "a8630436",
   "metadata": {},
   "outputs": [],
   "source": [
    "cell = get_grid_cell_polygon(n_sides=3)"
   ]
  },
  {
   "cell_type": "code",
   "execution_count": 14,
   "id": "b90224ca",
   "metadata": {},
   "outputs": [],
   "source": [
    "slices = get_grid_cell_slices(W = 0.5, n_slices=5)"
   ]
  },
  {
   "cell_type": "code",
   "execution_count": 15,
   "id": "9f8c3407",
   "metadata": {},
   "outputs": [
    {
     "data": {
      "text/plain": [
       "<AxesSubplot:>"
      ]
     },
     "execution_count": 15,
     "metadata": {},
     "output_type": "execute_result"
    },
    {
     "data": {
      "image/png": "[encoded data removed]",
      "text/plain": [
       "<Figure size 432x288 with 1 Axes>"
      ]
     },
     "metadata": {
      "needs_background": "light"
     },
     "output_type": "display_data"
    }
   ],
   "source": [
    "geopandas.GeoSeries(slices).plot(edgecolor = \"w\")"
   ]
  },
  {
   "cell_type": "code",
   "execution_count": 3,
   "id": "0bde7772",
   "metadata": {},
   "outputs": [
    {
     "data": {
      "text/plain": [
       "[(5.4909107047240385e-16, -0.3416666666666663)]"
      ]
     },
     "execution_count": 3,
     "metadata": {},
     "output_type": "execute_result"
    }
   ],
   "source": [
    "strands = get_cell_strands(n = 3, width=0.3)"
   ]
  },
  {
   "cell_type": "code",
   "execution_count": null,
   "id": "3d6c78ae",
   "metadata": {},
   "outputs": [],
   "source": [
    "geopandas.GeoSeries(strands).plot(edgecolor = \"w\")"
   ]
  }
 ],
 "metadata": {
  "kernelspec": {
   "display_name": "Python 3 (ipykernel)",
   "language": "python",
   "name": "python3"
  },
  "language_info": {
   "codemirror_mode": {
    "name": "ipython",
    "version": 3
   },
   "file_extension": ".py",
   "mimetype": "text/x-python",
   "name": "python",
   "nbconvert_exporter": "python",
   "pygments_lexer": "ipython3",
   "version": "3.10.4"
  }
 },
 "nbformat": 4,
 "nbformat_minor": 5
}

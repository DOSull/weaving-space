{
 "cells": [
  {
   "cell_type": "markdown",
   "id": "1b8664ef",
   "metadata": {},
   "source": [
    "Import the python code files"
   ]
  },
  {
   "cell_type": "code",
   "execution_count": 1,
   "id": "d3b66764",
   "metadata": {},
   "outputs": [],
   "source": [
    "%run -i biaxial_weave_units.py\n",
    "%run -i weaving_space_utils.py\n",
    "%run -i render_weave_grids.py\n",
    "\n",
    "import geopandas"
   ]
  },
  {
   "cell_type": "code",
   "execution_count": 6,
   "id": "a8630436",
   "metadata": {},
   "outputs": [],
   "source": [
    "cell = get_grid_cell_polygon(n_sides=3)"
   ]
  },
  {
   "cell_type": "code",
   "execution_count": 7,
   "id": "b90224ca",
   "metadata": {},
   "outputs": [],
   "source": [
    "slices = get_grid_cell_slices(W = 0.5, n_slices=5)"
   ]
  },
  {
   "cell_type": "code",
   "execution_count": 8,
   "id": "9f8c3407",
   "metadata": {},
   "outputs": [
    {
     "data": {
      "text/plain": [
       "<AxesSubplot:>"
      ]
     },
     "execution_count": 8,
     "metadata": {},
     "output_type": "execute_result"
    },
    {
     "data": {
      "image/png": "[encoded data removed]",
      "text/plain": [
       "<Figure size 432x288 with 1 Axes>"
      ]
     },
     "metadata": {
      "needs_background": "light"
     },
     "output_type": "display_data"
    }
   ],
   "source": [
    "geopandas.GeoSeries(slices).plot(edgecolor = \"w\")"
   ]
  },
  {
   "cell_type": "code",
   "execution_count": 13,
   "id": "0bde7772",
   "metadata": {},
   "outputs": [
    {
     "data": {
      "text/plain": [
       "<shapely.geometry.base.GeometrySequence at 0x7f34b20c7b50>"
      ]
     },
     "execution_count": 13,
     "metadata": {},
     "output_type": "execute_result"
    }
   ],
   "source": [
    "strands = get_cell_strands(n = 3, width=0.6, n_slices=2, parity=1, orientation=120)\n",
    "strands"
   ]
  },
  {
   "cell_type": "code",
   "execution_count": 14,
   "id": "3d6c78ae",
   "metadata": {},
   "outputs": [
    {
     "data": {
      "text/plain": [
       "<AxesSubplot:>"
      ]
     },
     "execution_count": 14,
     "metadata": {},
     "output_type": "execute_result"
    },
    {
     "data": {
      "image/png": "[encoded data removed]",
      "text/plain": [
       "<Figure size 432x288 with 1 Axes>"
      ]
     },
     "metadata": {
      "needs_background": "light"
     },
     "output_type": "display_data"
    }
   ],
   "source": [
    "geopandas.GeoSeries(strands).plot(edgecolor = \"w\")"
   ]
  },
  {
   "cell_type": "code",
   "execution_count": null,
   "id": "25b3af69",
   "metadata": {},
   "outputs": [],
   "source": []
  }
 ],
 "metadata": {
  "kernelspec": {
   "display_name": "Python 3 (ipykernel)",
   "language": "python",
   "name": "python3"
  },
  "language_info": {
   "codemirror_mode": {
    "name": "ipython",
    "version": 3
   },
   "file_extension": ".py",
   "mimetype": "text/x-python",
   "name": "python",
   "nbconvert_exporter": "python",
   "pygments_lexer": "ipython3",
   "version": "3.10.4"
  }
 },
 "nbformat": 4,
 "nbformat_minor": 5
}

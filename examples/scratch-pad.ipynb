{
 "cells": [
  {
   "cell_type": "code",
   "execution_count": 1,
   "metadata": {},
   "outputs": [
    {
     "data": {
      "text/plain": [
       "('2.0.6', '2.0.2')"
      ]
     },
     "execution_count": 1,
     "metadata": {},
     "output_type": "execute_result"
    }
   ],
   "source": [
    "import sys\n",
    "sys.path.insert(0, \"../\")\n",
    "\n",
    "import math\n",
    "\n",
    "import numpy as np\n",
    "%matplotlib inline\n",
    "import matplotlib.pyplot as plt\n",
    "\n",
    "import shapely.geometry as geom\n",
    "import geopandas as gpd\n",
    "\n",
    "from weavingspace import TileUnit\n",
    "from weavingspace import WeaveUnit\n",
    "from weavingspace import Tiling\n",
    "from weavingspace import tiling_utils\n",
    "\n",
    "import shapely\n",
    "shapely.__version__, np.__version__"
   ]
  },
  {
   "cell_type": "code",
   "execution_count": 2,
   "metadata": {},
   "outputs": [],
   "source": [
    "t = WeaveUnit(weave_type = \"cube\", strands = \"abc|def|ghi\", aspect = 3/4, spacing = 250)"
   ]
  },
  {
   "cell_type": "code",
   "execution_count": 3,
   "metadata": {},
   "outputs": [],
   "source": [
    "# t = TileUnit(tiling_type = \"cross\", code = \"4.8.8\", n = 5, offset = 0) \\\n",
    "#     # .inset_prototile(0)\n",
    "t = [WeaveUnit(weave_type = \"cube\", strands = \"abc|def|ghi\", aspect = a, spacing = 250) for a in np.linspace(0.7,0.8,51)]\n",
    "# t.plot(r = 0, show_vectors = False, show_ids = False, show_prototile = False, show_reg_prototile = True)"
   ]
  },
  {
   "cell_type": "markdown",
   "metadata": {},
   "source": [
    "# Scratch pad\n",
    "A barebones notebook for testing basic operations of the package. The above code loads necessary libraries and allows for making a map."
   ]
  },
  {
   "cell_type": "code",
   "execution_count": 4,
   "metadata": {},
   "outputs": [],
   "source": [
    "# ak = gpd.read_file(\"data/imd-auckland-2018.gpkg\")"
   ]
  },
  {
   "cell_type": "code",
   "execution_count": 5,
   "metadata": {},
   "outputs": [],
   "source": [
    "# tile = TileUnit(tiling_type=\"square-colouring\", \n",
    "#                 code=\"3.3.4.3.4\", \n",
    "#                 spacing=500, \n",
    "#                 n=8, \n",
    "#                 crs=ak.crs) \\\n",
    "#                   .inset_prototile(10).inset_tiles(0)\n",
    "# tile.plot(r=1)\n"
   ]
  },
  {
   "cell_type": "code",
   "execution_count": 6,
   "metadata": {},
   "outputs": [],
   "source": [
    "# n = tile.tiles.shape[0]\n",
    "# vars = dict(zip(list(\"abcdefghijkl\")[:n], [x for x in ak.columns if \"Rank\" in x][:n]))\n",
    "# cmaps = dict(zip(vars.values(), [\"Reds\", \"Oranges\", \"Greens\", \"Blues\", \n",
    "#                                  \"Purples\", \"Greys\", \"YlOrBr\", \"PuRd\", \n",
    "#                                  \"YlOrRd\", \"BuGn\", \"BuPu\", \"YlGnBu\" ][:n]))\n",
    "# tiling = Tiling(tile, ak)\n",
    "# map = tiling.get_tiled_map()\n",
    "# fig = map.render(variables=vars, colourmaps=cmaps, use_ellipse=True)"
   ]
  }
 ],
 "metadata": {
  "kernelspec": {
   "display_name": "weaving",
   "language": "python",
   "name": "python3"
  },
  "language_info": {
   "codemirror_mode": {
    "name": "ipython",
    "version": 3
   },
   "file_extension": ".py",
   "mimetype": "text/x-python",
   "name": "python",
   "nbconvert_exporter": "python",
   "pygments_lexer": "ipython3",
   "version": "3.12.2"
  },
  "orig_nbformat": 4
 },
 "nbformat": 4,
 "nbformat_minor": 2
}
